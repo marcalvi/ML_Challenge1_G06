{
  "cells": [
    {
      "cell_type": "markdown",
      "metadata": {
        "id": "umAr9ExneMoj"
      },
      "source": [
        "# **Challenge 1: Cardiovascular disease diagnosis using cardiac magnetic resonance radiomics and machine learning**"
      ]
    },
    {
      "cell_type": "markdown",
      "metadata": {
        "id": "lifMiKHukpFQ"
      },
      "source": [
        "In this project, we aim to leverage machine learning to automatically classify patients'\n",
        "examinations into five distinct classes using as predictors cardiac magnetic resonance\n",
        "radiomics features."
      ]
    },
    {
      "cell_type": "markdown",
      "metadata": {
        "id": "x1XK_hGMeXda"
      },
      "source": [
        "## **0. Uploading and Understanding the Dataset**"
      ]
    },
    {
      "cell_type": "code",
      "execution_count": null,
      "metadata": {
        "id": "Yr5ahayiERLZ"
      },
      "outputs": [],
      "source": [
        "import pandas as pd\n",
        "df = pd.read_csv('ACDC_radiomics.csv')"
      ]
    },
    {
      "cell_type": "code",
      "execution_count": 52,
      "metadata": {
        "colab": {
          "base_uri": "https://localhost:8080/"
        },
        "id": "YAlzBwDMd-Ez",
        "outputId": "d15406a7-2b86-4e1b-9fc1-e6d56b9860b7"
      },
      "outputs": [
        {
          "name": "stdout",
          "output_type": "stream",
          "text": [
            "   original_shape_Elongation_LV_ED  original_shape_Flatness_LV_ED  \\\n",
            "0                         0.560917                       0.110560   \n",
            "1                         0.454960                       0.088323   \n",
            "2                         0.541682                       0.105418   \n",
            "3                         0.487949                       0.105906   \n",
            "4                         0.442150                       0.095225   \n",
            "\n",
            "   original_shape_LeastAxisLength_LV_ED  original_shape_MajorAxisLength_LV_ED  \\\n",
            "0                              6.592758                             59.630582   \n",
            "1                              5.730218                             64.877933   \n",
            "2                              6.711577                             63.666027   \n",
            "3                              6.726159                             63.510529   \n",
            "4                              7.186765                             75.471150   \n",
            "\n",
            "   original_shape_Maximum2DDiameterColumn_LV_ED  \\\n",
            "0                                     45.398238   \n",
            "1                                     40.311289   \n",
            "2                                     48.041649   \n",
            "3                                     44.407207   \n",
            "4                                     68.066144   \n",
            "\n",
            "   original_shape_Maximum2DDiameterRow_LV_ED  \\\n",
            "0                                  64.776539   \n",
            "1                                  64.140471   \n",
            "2                                  66.843100   \n",
            "3                                  66.370174   \n",
            "4                                  77.472576   \n",
            "\n",
            "   original_shape_Maximum2DDiameterSlice_LV_ED  \\\n",
            "0                                    64.007812   \n",
            "1                                    61.000000   \n",
            "2                                    59.135438   \n",
            "3                                    66.007575   \n",
            "4                                    50.487622   \n",
            "\n",
            "   original_shape_Maximum3DDiameter_LV_ED  original_shape_MeshVolume_LV_ED  \\\n",
            "0                               65.199693                      5674.000000   \n",
            "1                               67.446275                      5015.833333   \n",
            "2                               68.080834                      7817.666667   \n",
            "3                               66.475559                      5629.166667   \n",
            "4                               77.472576                      8550.083333   \n",
            "\n",
            "   original_shape_MinorAxisLength_LV_ED  ...  \\\n",
            "0                             33.447817  ...   \n",
            "1                             29.516875  ...   \n",
            "2                             34.486772  ...   \n",
            "3                             30.989912  ...   \n",
            "4                             33.369563  ...   \n",
            "\n",
            "   original_glszm_ZonePercentage_MYO_ES  original_glszm_ZoneVariance_MYO_ES  \\\n",
            "0                              0.053567                        40384.123570   \n",
            "1                              0.028344                       130808.332098   \n",
            "2                              0.041404                        92088.926893   \n",
            "3                              0.150855                         5232.431686   \n",
            "4                              0.040613                        91705.803093   \n",
            "\n",
            "   original_ngtdm_Busyness_MYO_ES  original_ngtdm_Coarseness_MYO_ES  \\\n",
            "0                       19.552355                          0.000993   \n",
            "1                       29.225756                          0.000722   \n",
            "2                       20.732684                          0.001106   \n",
            "3                        5.158496                          0.000848   \n",
            "4                       18.086404                          0.000710   \n",
            "\n",
            "   original_ngtdm_Complexity_MYO_ES  original_ngtdm_Contrast_MYO_ES  \\\n",
            "0                         36.034390                        0.010496   \n",
            "1                         17.238110                        0.006596   \n",
            "2                         13.916093                        0.004455   \n",
            "3                        216.183657                        0.025431   \n",
            "4                         41.886924                        0.005266   \n",
            "\n",
            "   original_ngtdm_Strength_MYO_ES  height  weight  class  \n",
            "0                        0.091329     184      95    DCM  \n",
            "1                        0.045024     160      70    DCM  \n",
            "2                        0.069372     165      77    DCM  \n",
            "3                        0.208797     159      46    DCM  \n",
            "4                        0.123346     165      77    DCM  \n",
            "\n",
            "[5 rows x 645 columns]\n"
          ]
        }
      ],
      "source": [
        "print(df.head())"
      ]
    },
    {
      "cell_type": "code",
      "execution_count": 53,
      "metadata": {
        "colab": {
          "base_uri": "https://localhost:8080/"
        },
        "id": "Bk3gYy59f8CA",
        "outputId": "cb166e7c-ada3-418c-de07-5f110d9082b7"
      },
      "outputs": [
        {
          "data": {
            "text/plain": [
              "(100, 645)"
            ]
          },
          "execution_count": 53,
          "metadata": {},
          "output_type": "execute_result"
        }
      ],
      "source": [
        "df.shape"
      ]
    },
    {
      "cell_type": "code",
      "execution_count": 54,
      "metadata": {
        "id": "K7pLgmi7h2tj"
      },
      "outputs": [],
      "source": [
        "import re\n",
        "\n",
        "def parse_column(col):\n",
        "    if col.startswith(\"original_\"):\n",
        "        parts = col.split(\"_\")\n",
        "        return {\n",
        "            \"full_name\": col,\n",
        "            \"category\": parts[1],         # shape, firstorder, glcm, etc.\n",
        "            \"feature\": parts[2],          # Strength, Mean, etc.\n",
        "            \"structure\": parts[3],        # MYO, LV, RV\n",
        "            \"phase\": parts[4]             # ED, ES\n",
        "        }\n",
        "    else:\n",
        "        return None\n",
        "\n",
        "parsed = [parse_column(col) for col in df.columns if col.startswith(\"original_\")]\n",
        "parsed = [p for p in parsed if p]  # elimina Nones\n",
        "\n",
        "# convertir a df\n",
        "meta_df = pd.DataFrame(parsed)"
      ]
    },
    {
      "cell_type": "code",
      "execution_count": 55,
      "metadata": {
        "colab": {
          "base_uri": "https://localhost:8080/",
          "height": 424
        },
        "id": "9Z-F4mcgjSfM",
        "outputId": "3ccc6462-65bc-476e-a41d-18a7cdae11a7"
      },
      "outputs": [
        {
          "data": {
            "text/html": [
              "<div>\n",
              "<style scoped>\n",
              "    .dataframe tbody tr th:only-of-type {\n",
              "        vertical-align: middle;\n",
              "    }\n",
              "\n",
              "    .dataframe tbody tr th {\n",
              "        vertical-align: top;\n",
              "    }\n",
              "\n",
              "    .dataframe thead th {\n",
              "        text-align: right;\n",
              "    }\n",
              "</style>\n",
              "<table border=\"1\" class=\"dataframe\">\n",
              "  <thead>\n",
              "    <tr style=\"text-align: right;\">\n",
              "      <th></th>\n",
              "      <th>full_name</th>\n",
              "      <th>category</th>\n",
              "      <th>feature</th>\n",
              "      <th>structure</th>\n",
              "      <th>phase</th>\n",
              "    </tr>\n",
              "  </thead>\n",
              "  <tbody>\n",
              "    <tr>\n",
              "      <th>0</th>\n",
              "      <td>original_shape_Elongation_LV_ED</td>\n",
              "      <td>shape</td>\n",
              "      <td>Elongation</td>\n",
              "      <td>LV</td>\n",
              "      <td>ED</td>\n",
              "    </tr>\n",
              "    <tr>\n",
              "      <th>1</th>\n",
              "      <td>original_shape_Flatness_LV_ED</td>\n",
              "      <td>shape</td>\n",
              "      <td>Flatness</td>\n",
              "      <td>LV</td>\n",
              "      <td>ED</td>\n",
              "    </tr>\n",
              "    <tr>\n",
              "      <th>2</th>\n",
              "      <td>original_shape_LeastAxisLength_LV_ED</td>\n",
              "      <td>shape</td>\n",
              "      <td>LeastAxisLength</td>\n",
              "      <td>LV</td>\n",
              "      <td>ED</td>\n",
              "    </tr>\n",
              "    <tr>\n",
              "      <th>3</th>\n",
              "      <td>original_shape_MajorAxisLength_LV_ED</td>\n",
              "      <td>shape</td>\n",
              "      <td>MajorAxisLength</td>\n",
              "      <td>LV</td>\n",
              "      <td>ED</td>\n",
              "    </tr>\n",
              "    <tr>\n",
              "      <th>4</th>\n",
              "      <td>original_shape_Maximum2DDiameterColumn_LV_ED</td>\n",
              "      <td>shape</td>\n",
              "      <td>Maximum2DDiameterColumn</td>\n",
              "      <td>LV</td>\n",
              "      <td>ED</td>\n",
              "    </tr>\n",
              "    <tr>\n",
              "      <th>...</th>\n",
              "      <td>...</td>\n",
              "      <td>...</td>\n",
              "      <td>...</td>\n",
              "      <td>...</td>\n",
              "      <td>...</td>\n",
              "    </tr>\n",
              "    <tr>\n",
              "      <th>637</th>\n",
              "      <td>original_ngtdm_Busyness_MYO_ES</td>\n",
              "      <td>ngtdm</td>\n",
              "      <td>Busyness</td>\n",
              "      <td>MYO</td>\n",
              "      <td>ES</td>\n",
              "    </tr>\n",
              "    <tr>\n",
              "      <th>638</th>\n",
              "      <td>original_ngtdm_Coarseness_MYO_ES</td>\n",
              "      <td>ngtdm</td>\n",
              "      <td>Coarseness</td>\n",
              "      <td>MYO</td>\n",
              "      <td>ES</td>\n",
              "    </tr>\n",
              "    <tr>\n",
              "      <th>639</th>\n",
              "      <td>original_ngtdm_Complexity_MYO_ES</td>\n",
              "      <td>ngtdm</td>\n",
              "      <td>Complexity</td>\n",
              "      <td>MYO</td>\n",
              "      <td>ES</td>\n",
              "    </tr>\n",
              "    <tr>\n",
              "      <th>640</th>\n",
              "      <td>original_ngtdm_Contrast_MYO_ES</td>\n",
              "      <td>ngtdm</td>\n",
              "      <td>Contrast</td>\n",
              "      <td>MYO</td>\n",
              "      <td>ES</td>\n",
              "    </tr>\n",
              "    <tr>\n",
              "      <th>641</th>\n",
              "      <td>original_ngtdm_Strength_MYO_ES</td>\n",
              "      <td>ngtdm</td>\n",
              "      <td>Strength</td>\n",
              "      <td>MYO</td>\n",
              "      <td>ES</td>\n",
              "    </tr>\n",
              "  </tbody>\n",
              "</table>\n",
              "<p>642 rows × 5 columns</p>\n",
              "</div>"
            ],
            "text/plain": [
              "                                        full_name category  \\\n",
              "0                 original_shape_Elongation_LV_ED    shape   \n",
              "1                   original_shape_Flatness_LV_ED    shape   \n",
              "2            original_shape_LeastAxisLength_LV_ED    shape   \n",
              "3            original_shape_MajorAxisLength_LV_ED    shape   \n",
              "4    original_shape_Maximum2DDiameterColumn_LV_ED    shape   \n",
              "..                                            ...      ...   \n",
              "637                original_ngtdm_Busyness_MYO_ES    ngtdm   \n",
              "638              original_ngtdm_Coarseness_MYO_ES    ngtdm   \n",
              "639              original_ngtdm_Complexity_MYO_ES    ngtdm   \n",
              "640                original_ngtdm_Contrast_MYO_ES    ngtdm   \n",
              "641                original_ngtdm_Strength_MYO_ES    ngtdm   \n",
              "\n",
              "                     feature structure phase  \n",
              "0                 Elongation        LV    ED  \n",
              "1                   Flatness        LV    ED  \n",
              "2            LeastAxisLength        LV    ED  \n",
              "3            MajorAxisLength        LV    ED  \n",
              "4    Maximum2DDiameterColumn        LV    ED  \n",
              "..                       ...       ...   ...  \n",
              "637                 Busyness       MYO    ES  \n",
              "638               Coarseness       MYO    ES  \n",
              "639               Complexity       MYO    ES  \n",
              "640                 Contrast       MYO    ES  \n",
              "641                 Strength       MYO    ES  \n",
              "\n",
              "[642 rows x 5 columns]"
            ]
          },
          "execution_count": 55,
          "metadata": {},
          "output_type": "execute_result"
        }
      ],
      "source": [
        "meta_df"
      ]
    },
    {
      "cell_type": "code",
      "execution_count": 56,
      "metadata": {
        "colab": {
          "base_uri": "https://localhost:8080/",
          "height": 175
        },
        "id": "_cr8gcFDjTSb",
        "outputId": "802c1802-743a-4353-d511-506ca0b68f21"
      },
      "outputs": [
        {
          "data": {
            "text/html": [
              "<div>\n",
              "<style scoped>\n",
              "    .dataframe tbody tr th:only-of-type {\n",
              "        vertical-align: middle;\n",
              "    }\n",
              "\n",
              "    .dataframe tbody tr th {\n",
              "        vertical-align: top;\n",
              "    }\n",
              "\n",
              "    .dataframe thead th {\n",
              "        text-align: right;\n",
              "    }\n",
              "</style>\n",
              "<table border=\"1\" class=\"dataframe\">\n",
              "  <thead>\n",
              "    <tr style=\"text-align: right;\">\n",
              "      <th></th>\n",
              "      <th>full_name</th>\n",
              "      <th>category</th>\n",
              "      <th>feature</th>\n",
              "      <th>structure</th>\n",
              "      <th>phase</th>\n",
              "    </tr>\n",
              "  </thead>\n",
              "  <tbody>\n",
              "    <tr>\n",
              "      <th>count</th>\n",
              "      <td>642</td>\n",
              "      <td>642</td>\n",
              "      <td>642</td>\n",
              "      <td>642</td>\n",
              "      <td>642</td>\n",
              "    </tr>\n",
              "    <tr>\n",
              "      <th>unique</th>\n",
              "      <td>642</td>\n",
              "      <td>7</td>\n",
              "      <td>101</td>\n",
              "      <td>3</td>\n",
              "      <td>2</td>\n",
              "    </tr>\n",
              "    <tr>\n",
              "      <th>top</th>\n",
              "      <td>original_shape_Elongation_LV_ED</td>\n",
              "      <td>glcm</td>\n",
              "      <td>GrayLevelNonUniformity</td>\n",
              "      <td>LV</td>\n",
              "      <td>ED</td>\n",
              "    </tr>\n",
              "    <tr>\n",
              "      <th>freq</th>\n",
              "      <td>1</td>\n",
              "      <td>144</td>\n",
              "      <td>18</td>\n",
              "      <td>214</td>\n",
              "      <td>321</td>\n",
              "    </tr>\n",
              "  </tbody>\n",
              "</table>\n",
              "</div>"
            ],
            "text/plain": [
              "                              full_name category                 feature  \\\n",
              "count                               642      642                     642   \n",
              "unique                              642        7                     101   \n",
              "top     original_shape_Elongation_LV_ED     glcm  GrayLevelNonUniformity   \n",
              "freq                                  1      144                      18   \n",
              "\n",
              "       structure phase  \n",
              "count        642   642  \n",
              "unique         3     2  \n",
              "top           LV    ED  \n",
              "freq         214   321  "
            ]
          },
          "execution_count": 56,
          "metadata": {},
          "output_type": "execute_result"
        }
      ],
      "source": [
        "meta_df.describe()"
      ]
    },
    {
      "cell_type": "code",
      "execution_count": 57,
      "metadata": {
        "colab": {
          "base_uri": "https://localhost:8080/"
        },
        "id": "C3SMMfi2jgpi",
        "outputId": "7462d4a8-cd76-4dbf-a6b5-4c1da7d965c5"
      },
      "outputs": [
        {
          "data": {
            "text/plain": [
              "array(['Elongation', 'Flatness', 'LeastAxisLength', 'MajorAxisLength',\n",
              "       'Maximum2DDiameterColumn', 'Maximum2DDiameterRow',\n",
              "       'Maximum2DDiameterSlice', 'Maximum3DDiameter', 'MeshVolume',\n",
              "       'MinorAxisLength', 'Sphericity', 'SurfaceArea',\n",
              "       'SurfaceVolumeRatio', 'VoxelVolume', '10Percentile',\n",
              "       '90Percentile', 'Energy', 'Entropy', 'InterquartileRange',\n",
              "       'Kurtosis', 'Maximum', 'MeanAbsoluteDeviation', 'Mean', 'Median',\n",
              "       'Minimum', 'Range', 'RobustMeanAbsoluteDeviation',\n",
              "       'RootMeanSquared', 'Skewness', 'TotalEnergy', 'Uniformity',\n",
              "       'Variance', 'Autocorrelation', 'ClusterProminence', 'ClusterShade',\n",
              "       'ClusterTendency', 'Contrast', 'Correlation', 'DifferenceAverage',\n",
              "       'DifferenceEntropy', 'DifferenceVariance', 'Id', 'Idm', 'Idmn',\n",
              "       'Idn', 'Imc1', 'Imc2', 'InverseVariance', 'JointAverage',\n",
              "       'JointEnergy', 'JointEntropy', 'MCC', 'MaximumProbability',\n",
              "       'SumAverage', 'SumEntropy', 'SumSquares', 'DependenceEntropy',\n",
              "       'DependenceNonUniformity', 'DependenceNonUniformityNormalized',\n",
              "       'DependenceVariance', 'GrayLevelNonUniformity',\n",
              "       'GrayLevelVariance', 'HighGrayLevelEmphasis',\n",
              "       'LargeDependenceEmphasis', 'LargeDependenceHighGrayLevelEmphasis',\n",
              "       'LargeDependenceLowGrayLevelEmphasis', 'LowGrayLevelEmphasis',\n",
              "       'SmallDependenceEmphasis', 'SmallDependenceHighGrayLevelEmphasis',\n",
              "       'SmallDependenceLowGrayLevelEmphasis',\n",
              "       'GrayLevelNonUniformityNormalized', 'HighGrayLevelRunEmphasis',\n",
              "       'LongRunEmphasis', 'LongRunHighGrayLevelEmphasis',\n",
              "       'LongRunLowGrayLevelEmphasis', 'LowGrayLevelRunEmphasis',\n",
              "       'RunEntropy', 'RunLengthNonUniformity',\n",
              "       'RunLengthNonUniformityNormalized', 'RunPercentage', 'RunVariance',\n",
              "       'ShortRunEmphasis', 'ShortRunHighGrayLevelEmphasis',\n",
              "       'ShortRunLowGrayLevelEmphasis', 'HighGrayLevelZoneEmphasis',\n",
              "       'LargeAreaEmphasis', 'LargeAreaHighGrayLevelEmphasis',\n",
              "       'LargeAreaLowGrayLevelEmphasis', 'LowGrayLevelZoneEmphasis',\n",
              "       'SizeZoneNonUniformity', 'SizeZoneNonUniformityNormalized',\n",
              "       'SmallAreaEmphasis', 'SmallAreaHighGrayLevelEmphasis',\n",
              "       'SmallAreaLowGrayLevelEmphasis', 'ZoneEntropy', 'ZonePercentage',\n",
              "       'ZoneVariance', 'Busyness', 'Coarseness', 'Complexity', 'Strength'],\n",
              "      dtype=object)"
            ]
          },
          "execution_count": 57,
          "metadata": {},
          "output_type": "execute_result"
        }
      ],
      "source": [
        "meta_df.feature.unique()"
      ]
    },
    {
      "cell_type": "code",
      "execution_count": 58,
      "metadata": {
        "colab": {
          "base_uri": "https://localhost:8080/"
        },
        "id": "vqgkA_R0jzCt",
        "outputId": "b0e142bf-b558-41dd-c8d2-7f0de99aca29"
      },
      "outputs": [
        {
          "data": {
            "text/plain": [
              "array(['LV', 'RV', 'MYO'], dtype=object)"
            ]
          },
          "execution_count": 58,
          "metadata": {},
          "output_type": "execute_result"
        }
      ],
      "source": [
        "meta_df.structure.unique()"
      ]
    },
    {
      "cell_type": "code",
      "execution_count": 59,
      "metadata": {
        "colab": {
          "base_uri": "https://localhost:8080/"
        },
        "id": "tksNcwM0j1xL",
        "outputId": "fc241d1f-41bf-4f1b-d852-8b613e072f75"
      },
      "outputs": [
        {
          "data": {
            "text/plain": [
              "array(['shape', 'firstorder', 'glcm', 'gldm', 'glrlm', 'glszm', 'ngtdm'],\n",
              "      dtype=object)"
            ]
          },
          "execution_count": 59,
          "metadata": {},
          "output_type": "execute_result"
        }
      ],
      "source": [
        "meta_df.category.unique()"
      ]
    },
    {
      "cell_type": "code",
      "execution_count": 60,
      "metadata": {
        "colab": {
          "base_uri": "https://localhost:8080/"
        },
        "id": "5bH5jcngj4lI",
        "outputId": "5c6c3c4e-b833-422c-f35e-bc261de088af"
      },
      "outputs": [
        {
          "data": {
            "text/plain": [
              "array(['ED', 'ES'], dtype=object)"
            ]
          },
          "execution_count": 60,
          "metadata": {},
          "output_type": "execute_result"
        }
      ],
      "source": [
        "meta_df.phase.unique()"
      ]
    },
    {
      "cell_type": "markdown",
      "metadata": {
        "id": "zM2ddVtUDFb3"
      },
      "source": [
        "## **1. Exploratory Data Analysis**"
      ]
    },
    {
      "cell_type": "markdown",
      "metadata": {
        "id": "OtpD3tkSjwv_"
      },
      "source": [
        "This step is crutial to be done before starting any modelling as it helps us to understand our data and figure out important factors that could influence the model development."
      ]
    },
    {
      "cell_type": "markdown",
      "metadata": {
        "id": "75uXVxiiC4bh"
      },
      "source": [
        "### **1.1. Summary statistics and missing values**"
      ]
    },
    {
      "cell_type": "code",
      "execution_count": 61,
      "metadata": {
        "colab": {
          "base_uri": "https://localhost:8080/",
          "height": 458
        },
        "id": "c8ad2_cBgJsl",
        "outputId": "6596dcde-d8fb-4f91-a57f-96cb1f39b024"
      },
      "outputs": [
        {
          "data": {
            "text/plain": [
              "original_shape_Elongation_LV_ED                 float64\n",
              "original_shape_Flatness_LV_ED                   float64\n",
              "original_shape_LeastAxisLength_LV_ED            float64\n",
              "original_shape_MajorAxisLength_LV_ED            float64\n",
              "original_shape_Maximum2DDiameterColumn_LV_ED    float64\n",
              "                                                 ...   \n",
              "original_ngtdm_Contrast_MYO_ES                  float64\n",
              "original_ngtdm_Strength_MYO_ES                  float64\n",
              "height                                            int64\n",
              "weight                                            int64\n",
              "class                                            object\n",
              "Length: 645, dtype: object"
            ]
          },
          "execution_count": 61,
          "metadata": {},
          "output_type": "execute_result"
        }
      ],
      "source": [
        "df.dtypes"
      ]
    },
    {
      "cell_type": "code",
      "execution_count": 62,
      "metadata": {
        "colab": {
          "base_uri": "https://localhost:8080/",
          "height": 350
        },
        "id": "N_aHYWengei6",
        "outputId": "c502adf4-e6df-44ab-eb4f-5c42edb58c38"
      },
      "outputs": [
        {
          "data": {
            "text/html": [
              "<div>\n",
              "<style scoped>\n",
              "    .dataframe tbody tr th:only-of-type {\n",
              "        vertical-align: middle;\n",
              "    }\n",
              "\n",
              "    .dataframe tbody tr th {\n",
              "        vertical-align: top;\n",
              "    }\n",
              "\n",
              "    .dataframe thead th {\n",
              "        text-align: right;\n",
              "    }\n",
              "</style>\n",
              "<table border=\"1\" class=\"dataframe\">\n",
              "  <thead>\n",
              "    <tr style=\"text-align: right;\">\n",
              "      <th></th>\n",
              "      <th>original_shape_Elongation_LV_ED</th>\n",
              "      <th>original_shape_Flatness_LV_ED</th>\n",
              "      <th>original_shape_LeastAxisLength_LV_ED</th>\n",
              "      <th>original_shape_MajorAxisLength_LV_ED</th>\n",
              "      <th>original_shape_Maximum2DDiameterColumn_LV_ED</th>\n",
              "      <th>original_shape_Maximum2DDiameterRow_LV_ED</th>\n",
              "      <th>original_shape_Maximum2DDiameterSlice_LV_ED</th>\n",
              "      <th>original_shape_Maximum3DDiameter_LV_ED</th>\n",
              "      <th>original_shape_MeshVolume_LV_ED</th>\n",
              "      <th>original_shape_MinorAxisLength_LV_ED</th>\n",
              "      <th>...</th>\n",
              "      <th>original_glszm_ZoneEntropy_MYO_ES</th>\n",
              "      <th>original_glszm_ZonePercentage_MYO_ES</th>\n",
              "      <th>original_glszm_ZoneVariance_MYO_ES</th>\n",
              "      <th>original_ngtdm_Busyness_MYO_ES</th>\n",
              "      <th>original_ngtdm_Coarseness_MYO_ES</th>\n",
              "      <th>original_ngtdm_Complexity_MYO_ES</th>\n",
              "      <th>original_ngtdm_Contrast_MYO_ES</th>\n",
              "      <th>original_ngtdm_Strength_MYO_ES</th>\n",
              "      <th>height</th>\n",
              "      <th>weight</th>\n",
              "    </tr>\n",
              "  </thead>\n",
              "  <tbody>\n",
              "    <tr>\n",
              "      <th>count</th>\n",
              "      <td>100.000000</td>\n",
              "      <td>100.000000</td>\n",
              "      <td>100.000000</td>\n",
              "      <td>100.000000</td>\n",
              "      <td>100.000000</td>\n",
              "      <td>100.000000</td>\n",
              "      <td>100.000000</td>\n",
              "      <td>100.000000</td>\n",
              "      <td>100.000000</td>\n",
              "      <td>100.000000</td>\n",
              "      <td>...</td>\n",
              "      <td>100.000000</td>\n",
              "      <td>100.000000</td>\n",
              "      <td>1.000000e+02</td>\n",
              "      <td>100.000000</td>\n",
              "      <td>100.000000</td>\n",
              "      <td>100.000000</td>\n",
              "      <td>100.000000</td>\n",
              "      <td>100.000000</td>\n",
              "      <td>100.000000</td>\n",
              "      <td>100.000000</td>\n",
              "    </tr>\n",
              "    <tr>\n",
              "      <th>mean</th>\n",
              "      <td>0.559329</td>\n",
              "      <td>0.116327</td>\n",
              "      <td>7.027303</td>\n",
              "      <td>61.907922</td>\n",
              "      <td>48.331549</td>\n",
              "      <td>67.959597</td>\n",
              "      <td>62.818826</td>\n",
              "      <td>69.083915</td>\n",
              "      <td>7830.536250</td>\n",
              "      <td>34.273933</td>\n",
              "      <td>...</td>\n",
              "      <td>4.278958</td>\n",
              "      <td>0.030509</td>\n",
              "      <td>2.157801e+05</td>\n",
              "      <td>43.418370</td>\n",
              "      <td>0.001517</td>\n",
              "      <td>22.200001</td>\n",
              "      <td>0.012399</td>\n",
              "      <td>0.055277</td>\n",
              "      <td>170.840000</td>\n",
              "      <td>74.960000</td>\n",
              "    </tr>\n",
              "    <tr>\n",
              "      <th>std</th>\n",
              "      <td>0.086312</td>\n",
              "      <td>0.044954</td>\n",
              "      <td>2.421983</td>\n",
              "      <td>11.241951</td>\n",
              "      <td>11.736217</td>\n",
              "      <td>12.777552</td>\n",
              "      <td>14.225637</td>\n",
              "      <td>12.871657</td>\n",
              "      <td>4335.369673</td>\n",
              "      <td>6.211781</td>\n",
              "      <td>...</td>\n",
              "      <td>0.657176</td>\n",
              "      <td>0.030895</td>\n",
              "      <td>4.108047e+05</td>\n",
              "      <td>35.480593</td>\n",
              "      <td>0.000714</td>\n",
              "      <td>61.319519</td>\n",
              "      <td>0.009736</td>\n",
              "      <td>0.081740</td>\n",
              "      <td>9.710683</td>\n",
              "      <td>16.632037</td>\n",
              "    </tr>\n",
              "    <tr>\n",
              "      <th>min</th>\n",
              "      <td>0.374291</td>\n",
              "      <td>0.046936</td>\n",
              "      <td>3.365035</td>\n",
              "      <td>41.204891</td>\n",
              "      <td>21.095023</td>\n",
              "      <td>46.043458</td>\n",
              "      <td>30.066593</td>\n",
              "      <td>47.053161</td>\n",
              "      <td>1984.375000</td>\n",
              "      <td>21.095961</td>\n",
              "      <td>...</td>\n",
              "      <td>3.193796</td>\n",
              "      <td>0.003233</td>\n",
              "      <td>3.176649e+02</td>\n",
              "      <td>1.770204</td>\n",
              "      <td>0.000443</td>\n",
              "      <td>0.562589</td>\n",
              "      <td>0.001240</td>\n",
              "      <td>0.003402</td>\n",
              "      <td>140.000000</td>\n",
              "      <td>35.000000</td>\n",
              "    </tr>\n",
              "    <tr>\n",
              "      <th>25%</th>\n",
              "      <td>0.496768</td>\n",
              "      <td>0.090354</td>\n",
              "      <td>5.547015</td>\n",
              "      <td>55.335903</td>\n",
              "      <td>41.403462</td>\n",
              "      <td>60.588288</td>\n",
              "      <td>54.071708</td>\n",
              "      <td>61.554810</td>\n",
              "      <td>5201.843750</td>\n",
              "      <td>30.218074</td>\n",
              "      <td>...</td>\n",
              "      <td>3.814769</td>\n",
              "      <td>0.014291</td>\n",
              "      <td>5.873236e+04</td>\n",
              "      <td>19.791961</td>\n",
              "      <td>0.001002</td>\n",
              "      <td>2.485099</td>\n",
              "      <td>0.007079</td>\n",
              "      <td>0.012007</td>\n",
              "      <td>165.000000</td>\n",
              "      <td>62.750000</td>\n",
              "    </tr>\n",
              "    <tr>\n",
              "      <th>50%</th>\n",
              "      <td>0.562325</td>\n",
              "      <td>0.105700</td>\n",
              "      <td>6.572642</td>\n",
              "      <td>61.729255</td>\n",
              "      <td>45.951022</td>\n",
              "      <td>66.471721</td>\n",
              "      <td>61.683455</td>\n",
              "      <td>67.646128</td>\n",
              "      <td>6743.020833</td>\n",
              "      <td>33.479543</td>\n",
              "      <td>...</td>\n",
              "      <td>4.150802</td>\n",
              "      <td>0.021955</td>\n",
              "      <td>1.295591e+05</td>\n",
              "      <td>34.946317</td>\n",
              "      <td>0.001372</td>\n",
              "      <td>4.207814</td>\n",
              "      <td>0.009971</td>\n",
              "      <td>0.022363</td>\n",
              "      <td>171.500000</td>\n",
              "      <td>75.000000</td>\n",
              "    </tr>\n",
              "    <tr>\n",
              "      <th>75%</th>\n",
              "      <td>0.603154</td>\n",
              "      <td>0.123933</td>\n",
              "      <td>7.438589</td>\n",
              "      <td>66.349397</td>\n",
              "      <td>53.235327</td>\n",
              "      <td>73.659458</td>\n",
              "      <td>70.000000</td>\n",
              "      <td>74.787973</td>\n",
              "      <td>9282.125000</td>\n",
              "      <td>38.097940</td>\n",
              "      <td>...</td>\n",
              "      <td>4.638770</td>\n",
              "      <td>0.031424</td>\n",
              "      <td>2.345962e+05</td>\n",
              "      <td>55.753123</td>\n",
              "      <td>0.001819</td>\n",
              "      <td>13.739332</td>\n",
              "      <td>0.013831</td>\n",
              "      <td>0.062622</td>\n",
              "      <td>178.000000</td>\n",
              "      <td>85.000000</td>\n",
              "    </tr>\n",
              "    <tr>\n",
              "      <th>max</th>\n",
              "      <td>0.791923</td>\n",
              "      <td>0.286265</td>\n",
              "      <td>16.244584</td>\n",
              "      <td>131.551946</td>\n",
              "      <td>90.138782</td>\n",
              "      <td>143.391074</td>\n",
              "      <td>139.003597</td>\n",
              "      <td>144.371050</td>\n",
              "      <td>26335.375000</td>\n",
              "      <td>59.645360</td>\n",
              "      <td>...</td>\n",
              "      <td>6.251883</td>\n",
              "      <td>0.205567</td>\n",
              "      <td>3.806504e+06</td>\n",
              "      <td>185.157865</td>\n",
              "      <td>0.004126</td>\n",
              "      <td>515.368502</td>\n",
              "      <td>0.066583</td>\n",
              "      <td>0.450330</td>\n",
              "      <td>192.000000</td>\n",
              "      <td>123.000000</td>\n",
              "    </tr>\n",
              "  </tbody>\n",
              "</table>\n",
              "<p>8 rows × 644 columns</p>\n",
              "</div>"
            ],
            "text/plain": [
              "       original_shape_Elongation_LV_ED  original_shape_Flatness_LV_ED  \\\n",
              "count                       100.000000                     100.000000   \n",
              "mean                          0.559329                       0.116327   \n",
              "std                           0.086312                       0.044954   \n",
              "min                           0.374291                       0.046936   \n",
              "25%                           0.496768                       0.090354   \n",
              "50%                           0.562325                       0.105700   \n",
              "75%                           0.603154                       0.123933   \n",
              "max                           0.791923                       0.286265   \n",
              "\n",
              "       original_shape_LeastAxisLength_LV_ED  \\\n",
              "count                            100.000000   \n",
              "mean                               7.027303   \n",
              "std                                2.421983   \n",
              "min                                3.365035   \n",
              "25%                                5.547015   \n",
              "50%                                6.572642   \n",
              "75%                                7.438589   \n",
              "max                               16.244584   \n",
              "\n",
              "       original_shape_MajorAxisLength_LV_ED  \\\n",
              "count                            100.000000   \n",
              "mean                              61.907922   \n",
              "std                               11.241951   \n",
              "min                               41.204891   \n",
              "25%                               55.335903   \n",
              "50%                               61.729255   \n",
              "75%                               66.349397   \n",
              "max                              131.551946   \n",
              "\n",
              "       original_shape_Maximum2DDiameterColumn_LV_ED  \\\n",
              "count                                    100.000000   \n",
              "mean                                      48.331549   \n",
              "std                                       11.736217   \n",
              "min                                       21.095023   \n",
              "25%                                       41.403462   \n",
              "50%                                       45.951022   \n",
              "75%                                       53.235327   \n",
              "max                                       90.138782   \n",
              "\n",
              "       original_shape_Maximum2DDiameterRow_LV_ED  \\\n",
              "count                                 100.000000   \n",
              "mean                                   67.959597   \n",
              "std                                    12.777552   \n",
              "min                                    46.043458   \n",
              "25%                                    60.588288   \n",
              "50%                                    66.471721   \n",
              "75%                                    73.659458   \n",
              "max                                   143.391074   \n",
              "\n",
              "       original_shape_Maximum2DDiameterSlice_LV_ED  \\\n",
              "count                                   100.000000   \n",
              "mean                                     62.818826   \n",
              "std                                      14.225637   \n",
              "min                                      30.066593   \n",
              "25%                                      54.071708   \n",
              "50%                                      61.683455   \n",
              "75%                                      70.000000   \n",
              "max                                     139.003597   \n",
              "\n",
              "       original_shape_Maximum3DDiameter_LV_ED  \\\n",
              "count                              100.000000   \n",
              "mean                                69.083915   \n",
              "std                                 12.871657   \n",
              "min                                 47.053161   \n",
              "25%                                 61.554810   \n",
              "50%                                 67.646128   \n",
              "75%                                 74.787973   \n",
              "max                                144.371050   \n",
              "\n",
              "       original_shape_MeshVolume_LV_ED  original_shape_MinorAxisLength_LV_ED  \\\n",
              "count                       100.000000                            100.000000   \n",
              "mean                       7830.536250                             34.273933   \n",
              "std                        4335.369673                              6.211781   \n",
              "min                        1984.375000                             21.095961   \n",
              "25%                        5201.843750                             30.218074   \n",
              "50%                        6743.020833                             33.479543   \n",
              "75%                        9282.125000                             38.097940   \n",
              "max                       26335.375000                             59.645360   \n",
              "\n",
              "       ...  original_glszm_ZoneEntropy_MYO_ES  \\\n",
              "count  ...                         100.000000   \n",
              "mean   ...                           4.278958   \n",
              "std    ...                           0.657176   \n",
              "min    ...                           3.193796   \n",
              "25%    ...                           3.814769   \n",
              "50%    ...                           4.150802   \n",
              "75%    ...                           4.638770   \n",
              "max    ...                           6.251883   \n",
              "\n",
              "       original_glszm_ZonePercentage_MYO_ES  \\\n",
              "count                            100.000000   \n",
              "mean                               0.030509   \n",
              "std                                0.030895   \n",
              "min                                0.003233   \n",
              "25%                                0.014291   \n",
              "50%                                0.021955   \n",
              "75%                                0.031424   \n",
              "max                                0.205567   \n",
              "\n",
              "       original_glszm_ZoneVariance_MYO_ES  original_ngtdm_Busyness_MYO_ES  \\\n",
              "count                        1.000000e+02                      100.000000   \n",
              "mean                         2.157801e+05                       43.418370   \n",
              "std                          4.108047e+05                       35.480593   \n",
              "min                          3.176649e+02                        1.770204   \n",
              "25%                          5.873236e+04                       19.791961   \n",
              "50%                          1.295591e+05                       34.946317   \n",
              "75%                          2.345962e+05                       55.753123   \n",
              "max                          3.806504e+06                      185.157865   \n",
              "\n",
              "       original_ngtdm_Coarseness_MYO_ES  original_ngtdm_Complexity_MYO_ES  \\\n",
              "count                        100.000000                        100.000000   \n",
              "mean                           0.001517                         22.200001   \n",
              "std                            0.000714                         61.319519   \n",
              "min                            0.000443                          0.562589   \n",
              "25%                            0.001002                          2.485099   \n",
              "50%                            0.001372                          4.207814   \n",
              "75%                            0.001819                         13.739332   \n",
              "max                            0.004126                        515.368502   \n",
              "\n",
              "       original_ngtdm_Contrast_MYO_ES  original_ngtdm_Strength_MYO_ES  \\\n",
              "count                      100.000000                      100.000000   \n",
              "mean                         0.012399                        0.055277   \n",
              "std                          0.009736                        0.081740   \n",
              "min                          0.001240                        0.003402   \n",
              "25%                          0.007079                        0.012007   \n",
              "50%                          0.009971                        0.022363   \n",
              "75%                          0.013831                        0.062622   \n",
              "max                          0.066583                        0.450330   \n",
              "\n",
              "           height      weight  \n",
              "count  100.000000  100.000000  \n",
              "mean   170.840000   74.960000  \n",
              "std      9.710683   16.632037  \n",
              "min    140.000000   35.000000  \n",
              "25%    165.000000   62.750000  \n",
              "50%    171.500000   75.000000  \n",
              "75%    178.000000   85.000000  \n",
              "max    192.000000  123.000000  \n",
              "\n",
              "[8 rows x 644 columns]"
            ]
          },
          "execution_count": 62,
          "metadata": {},
          "output_type": "execute_result"
        }
      ],
      "source": [
        "df.describe()"
      ]
    },
    {
      "cell_type": "code",
      "execution_count": 63,
      "metadata": {
        "colab": {
          "base_uri": "https://localhost:8080/",
          "height": 458
        },
        "id": "-p0qWpx0gfKg",
        "outputId": "ddfc0f5f-8426-4503-a850-09016f3450fd"
      },
      "outputs": [
        {
          "data": {
            "text/plain": [
              "original_shape_Elongation_LV_ED                 0\n",
              "original_shape_Flatness_LV_ED                   0\n",
              "original_shape_LeastAxisLength_LV_ED            0\n",
              "original_shape_MajorAxisLength_LV_ED            0\n",
              "original_shape_Maximum2DDiameterColumn_LV_ED    0\n",
              "                                               ..\n",
              "original_ngtdm_Contrast_MYO_ES                  0\n",
              "original_ngtdm_Strength_MYO_ES                  0\n",
              "height                                          0\n",
              "weight                                          0\n",
              "class                                           0\n",
              "Length: 645, dtype: int64"
            ]
          },
          "execution_count": 63,
          "metadata": {},
          "output_type": "execute_result"
        }
      ],
      "source": [
        "df.isnull().sum()"
      ]
    },
    {
      "cell_type": "markdown",
      "metadata": {
        "id": "8zWd7iLNHOea"
      },
      "source": [
        "### **1.2. ML Analysis Tools**"
      ]
    },
    {
      "cell_type": "markdown",
      "metadata": {
        "id": "Kn3KVq7glyZO"
      },
      "source": [
        "In this section, we are going to use different ML tools to visualize patterns in our data, ML tools are specially usefull when having high-dimensionallity data (which is our case). But, before using any ML thecnique, it is essential to scale our data. This is a crutial step as features are in very different ranges of values. If we didn't do that features with larger values could dominate the analysis, even if they weren’t more informative than the other ones."
      ]
    },
    {
      "cell_type": "code",
      "execution_count": null,
      "metadata": {
        "id": "QUFbFr8XhYzf"
      },
      "outputs": [],
      "source": [
        "import pandas as pd\n",
        "from sklearn.preprocessing import StandardScaler\n",
        "\n",
        "# Separate features and target\n",
        "X = df.drop(columns=['class'])  # Features\n",
        "y = df['class']  # Target\n",
        "\n",
        "# Standardize features\n",
        "scaler = StandardScaler()\n",
        "X_scaled = scaler.fit_transform(X)"
      ]
    },
    {
      "cell_type": "markdown",
      "metadata": {
        "id": "16M4eIaDk8ms"
      },
      "source": [
        "The first ML tool that we will apply is the **Liniar Discriminant Analysis (LDA)**, this will allow to optimize the separation of our classes, see how well the classes are separated and see the most important features when separating the classes."
      ]
    },
    {
      "cell_type": "code",
      "execution_count": null,
      "metadata": {
        "colab": {
          "base_uri": "https://localhost:8080/",
          "height": 1000
        },
        "id": "uJEPiWJthzoM",
        "outputId": "aeb6b3f5-9e19-495e-8191-34e9640b0317"
      },
      "outputs": [
        {
          "name": "stdout",
          "output_type": "stream",
          "text": [
            "The number of components is:  4\n",
            "For component 1:\n",
            "original_shape_MeshVolume_RV_ES                           4.899654\n",
            "original_shape_VoxelVolume_RV_ES                          4.885090\n",
            "original_gldm_GrayLevelNonUniformity_RV_ES                4.786138\n",
            "original_shape_Maximum2DDiameterSlice_RV_ES               3.747847\n",
            "original_firstorder_Kurtosis_LV_ES                        3.084156\n",
            "original_glcm_Correlation_MYO_ES                          3.080766\n",
            "original_glrlm_GrayLevelNonUniformity_RV_ES               2.938208\n",
            "original_shape_Maximum2DDiameterRow_RV_ES                 2.911044\n",
            "original_glszm_GrayLevelNonUniformityNormalized_MYO_ES    2.909973\n",
            "original_gldm_DependenceNonUniformityNormalized_MYO_ES    2.772650\n",
            "dtype: float64\n",
            "\n",
            "\n",
            "For component 2:\n",
            "original_shape_Maximum2DDiameterSlice_RV_ES               2.625060\n",
            "original_shape_MeshVolume_RV_ES                           2.621418\n",
            "original_shape_VoxelVolume_RV_ES                          2.617609\n",
            "original_shape_MinorAxisLength_RV_ES                      2.240970\n",
            "original_glcm_Idmn_RV_ES                                  2.231391\n",
            "original_shape_Maximum2DDiameterRow_RV_ES                 2.205212\n",
            "original_glszm_GrayLevelNonUniformityNormalized_MYO_ES    2.126823\n",
            "original_shape_SurfaceVolumeRatio_RV_ES                   2.104123\n",
            "original_gldm_DependenceVariance_RV_ES                    1.956805\n",
            "original_gldm_GrayLevelNonUniformity_RV_ES                1.857428\n",
            "dtype: float64\n",
            "\n",
            "\n",
            "For component 3:\n",
            "original_firstorder_Kurtosis_RV_ES                          3.649311\n",
            "original_shape_Sphericity_MYO_ES                            2.911221\n",
            "original_firstorder_Skewness_MYO_ES                         2.526274\n",
            "original_glszm_GrayLevelNonUniformityNormalized_MYO_ES      2.423782\n",
            "original_gldm_LargeDependenceHighGrayLevelEmphasis_LV_ES    2.334576\n",
            "original_gldm_GrayLevelNonUniformity_RV_ES                  2.252012\n",
            "original_shape_MajorAxisLength_LV_ES                        2.024471\n",
            "original_glcm_Correlation_RV_ED                             1.986445\n",
            "original_shape_Elongation_LV_ES                             1.956222\n",
            "original_gldm_SmallDependenceLowGrayLevelEmphasis_LV_ES     1.813444\n",
            "dtype: float64\n",
            "\n",
            "\n",
            "For component 4:\n",
            "original_shape_Sphericity_MYO_ES                           3.553377\n",
            "original_firstorder_Kurtosis_RV_ES                         2.932786\n",
            "original_glcm_Correlation_RV_ED                            2.134411\n",
            "original_shape_Elongation_MYO_ES                           2.064036\n",
            "original_gldm_SmallDependenceLowGrayLevelEmphasis_LV_ES    1.951543\n",
            "original_gldm_GrayLevelNonUniformity_RV_ES                 1.946167\n",
            "original_ngtdm_Coarseness_RV_ES                            1.876708\n",
            "original_glcm_Correlation_MYO_ES                           1.875904\n",
            "original_shape_Elongation_MYO_ED                           1.788131\n",
            "original_firstorder_Skewness_MYO_ES                        1.760615\n",
            "dtype: float64\n"
          ]
        },
        {
          "data": {
            "image/png": "[encoded data removed]",
            "text/plain": [
              "<Figure size 640x480 with 1 Axes>"
            ]
          },
          "metadata": {},
          "output_type": "display_data"
        }
      ],
      "source": [
        "from sklearn.discriminant_analysis import LinearDiscriminantAnalysis\n",
        "import numpy as np\n",
        "import seaborn as sns\n",
        "\n",
        "# Optimize separation between classes\n",
        "lda = LinearDiscriminantAnalysis()\n",
        "X_lda = lda.fit_transform(X_scaled, y)\n",
        "\n",
        "# Goodness of class separation\n",
        "n_components = X_lda.shape[1]\n",
        "print(\"The number of components is: \", n_components)\n",
        "lda_cols = [f\"LD{i+1}\" for i in range(n_components)]\n",
        "df_lda = pd.DataFrame(X_lda, columns=lda_cols)\n",
        "df_lda[\"Label\"] = y\n",
        "sns.scatterplot(data=df_lda, x=\"LD1\", y=\"LD2\", hue=\"Label\", palette=\"tab10\", s=60)"
      ]
    },
    {
      "cell_type": "markdown",
      "metadata": {
        "id": "5Vr7C95XpDeP"
      },
      "source": [
        "From the plot, it can be seen that the components 1 and 2 are quite good at discriminating classes, considering that there are four components, we can think that the classes can be well separated. In order to ensure that we will make a Pairwise LDA component plot."
      ]
    },
    {
      "cell_type": "code",
      "execution_count": null,
      "metadata": {},
      "outputs": [],
      "source": [
        "import seaborn as sns\n",
        "import matplotlib.pyplot as plt\n",
        "\n",
        "sns.pairplot(df_lda, hue='Label', palette='tab10')\n",
        "plt.suptitle('Pairwise LDA component plots', y=1.02)\n",
        "plt.show()"
      ]
    },
    {
      "cell_type": "markdown",
      "metadata": {},
      "source": [
        "From the plot, we can ensure that using the different components, the classes can be well separated using the different components. For each of this components we will select the top ten mostly conributing features by looking at the coefficients. From that, we will create a unique set of features."
      ]
    },
    {
      "cell_type": "code",
      "execution_count": null,
      "metadata": {},
      "outputs": [],
      "source": [
        "top_features = set()  # to store top features\n",
        "\n",
        "# Look for the top ten features\n",
        "for i in range(X_lda.shape[1]):\n",
        "    lda_coefs = pd.Series(lda.coef_[i], index=X.columns)\n",
        "    top10 = lda_coefs.abs().sort_values(ascending=False).head(10)\n",
        "\n",
        "    print(f\"\\nFor component {i+1}:\")\n",
        "    for feature, coef in top10.items():\n",
        "        print(f\"{feature}: {coef:.4f}\")\n",
        "\n",
        "        # Add the feature in the top feature list\n",
        "        if feature not in top_features:\n",
        "            top_features.add(feature)\n",
        "\n",
        "# Display the selected features\n",
        "print(\"\\nUnique top contributing features across all components (with coefficients):\")\n",
        "for feature in sorted(top_features):\n",
        "    print(f\"{feature}\")\n",
        "print(\"\\nTotal number of features: \", len(top_features))"
      ]
    },
    {
      "cell_type": "markdown",
      "metadata": {},
      "source": [
        "Regarding to the most important features, we can see printed the top ten most important features of each component. Having a quick overview we can see that those features are associated with the phase end of systole (ES) and the most relevant structures are right ventricle (RV) and myocardium (MYO)."
      ]
    },
    {
      "cell_type": "markdown",
      "metadata": {},
      "source": [
        "Now we will create a heatmap in order to see what is the correlation with each LDA component."
      ]
    },
    {
      "cell_type": "code",
      "execution_count": null,
      "metadata": {},
      "outputs": [],
      "source": [
        "# Create a dataframe with only the selected features\n",
        "X_selected = X[list(top_features)]\n",
        "\n",
        "# Keep only the LDA components\n",
        "lda_components = df_lda.drop(columns='Label')\n",
        "\n",
        "# Compute the correlation: components (rows) vs features (columns)\n",
        "corr_matrix = lda_components.corrwith(X_selected, axis=0)\n",
        "cross_corr = pd.DataFrame(\n",
        "    np.corrcoef(lda_components.T, X_selected.T)[:lda_components.shape[1], lda_components.shape[1]:],\n",
        "    index=lda_components.columns,\n",
        "    columns=X_selected.columns\n",
        ")\n",
        "\n",
        "# Plot the heatmap\n",
        "plt.figure(figsize=(15, 3))\n",
        "sns.heatmap(cross_corr, cmap='coolwarm', center=0, annot=False)\n",
        "plt.title('Correlation: LDA Components (rows) vs Selected Features (columns)', fontsize=16)\n",
        "plt.xlabel('Features')\n",
        "plt.ylabel('LDA Components')\n",
        "plt.show()"
      ]
    },
    {
      "cell_type": "markdown",
      "metadata": {},
      "source": [
        "It can be seen that for eache component different set of features and with different intensity are correlated. this allows to optimize the class separation in the reduced dimensional space and be able to separate better the different classes."
      ]
    },
    {
      "cell_type": "markdown",
      "metadata": {},
      "source": [
        "Finally, it can be usefull to look for the correlations among features in order to see if they are redundant."
      ]
    },
    {
      "cell_type": "code",
      "execution_count": null,
      "metadata": {},
      "outputs": [],
      "source": [
        "# Create a DataFrame with the selected features\n",
        "X_top_features = X[list(top_features)]\n",
        "\n",
        "# Compute correlation matrix\n",
        "feature_corr = X_top_features.corr()\n",
        "\n",
        "# Plot the heatmap\n",
        "plt.figure(figsize=(15, 12))\n",
        "sns.heatmap(feature_corr, cmap='coolwarm', center=0, annot=False)\n",
        "plt.title('Correlation matrix between Top Selected Features', fontsize=18)\n",
        "plt.xlabel('Features')\n",
        "plt.ylabel('Features')\n",
        "plt.show()"
      ]
    },
    {
      "cell_type": "markdown",
      "metadata": {},
      "source": [
        "It can be seen that some features are highly correlated (specially some with same phase and structure). This suggests us that some feature reduction could be done despite the optimal components found. This would be a necesary step as having highly correlated features is not adding more relevant information in our model."
      ]
    },
    {
      "cell_type": "markdown",
      "metadata": {
        "id": "fCPEw3cImznj"
      },
      "source": [
        "Now, it is time to use the **Principal Component Analysis (PCA)**, this will allow us to see which features explain most of the variance. As it is an unsupervised thecnique, we have to consider that it will not help us to find which features can mostly separate class, it just will explain the variance."
      ]
    },
    {
      "cell_type": "markdown",
      "metadata": {},
      "source": [
        "We will start by training a simple classifier, in this case a logistic regression on different number of PCs and see how the classification accuracy changes."
      ]
    },
    {
      "cell_type": "code",
      "execution_count": null,
      "metadata": {},
      "outputs": [],
      "source": [
        "from sklearn.model_selection import cross_val_score\n",
        "from sklearn.linear_model import LogisticRegression\n",
        "from sklearn.decomposition import PCA\n",
        "\n",
        "scores = []\n",
        "\n",
        "for n_pcs in range(2, 20):  # Try from 2 to 30 PCs\n",
        "    pca = PCA(n_components=n_pcs)\n",
        "    X_pca = pca.fit_transform(X_scaled)\n",
        "\n",
        "    clf = LogisticRegression(max_iter=1000)\n",
        "    score = cross_val_score(clf, X_pca, y.values, cv=5).mean()  # 5-fold CV\n",
        "    scores.append(score)\n",
        "\n",
        "# Plot accuracy vs number of PCs\n",
        "plt.figure(figsize=(8,5))\n",
        "plt.plot(range(2, 20), scores, marker='o')\n",
        "plt.xlabel('Number of Principal Components')\n",
        "plt.ylabel('Cross-validated Accuracy')\n",
        "plt.title('Classification performance vs Number of PCs')\n",
        "plt.grid(True)\n",
        "plt.show()"
      ]
    },
    {
      "cell_type": "markdown",
      "metadata": {},
      "source": [
        "In this plot we can see that the number of PCs that seems to give the better accuracy is 13, so we'll be using 13 PCs."
      ]
    },
    {
      "cell_type": "code",
      "execution_count": null,
      "metadata": {},
      "outputs": [],
      "source": [
        "from sklearn.decomposition import PCA\n",
        "import matplotlib.pyplot as plt\n",
        "import seaborn as sns\n",
        "import pandas as pd\n",
        "import numpy as np\n",
        "\n",
        "pca = PCA(n_components=13)\n",
        "X_pca = pca.fit_transform(X_scaled)\n",
        "\n",
        "# Explained variance\n",
        "plt.figure()\n",
        "plt.plot(range(1, 14), pca.explained_variance_ratio_.cumsum(), marker='o')\n",
        "plt.title(\"Cumulative Explained Variance by PCA\")\n",
        "plt.xlabel(\"Number of Components\")\n",
        "plt.ylabel(\"Cumulative Variance\")\n",
        "plt.grid(True)\n",
        "plt.show()\n",
        "\n",
        "# Show the component contribution\n",
        "loadings = pca.components_\n",
        "feature_names = X.columns\n",
        "n_components_to_display = 13\n",
        "top_n = 13\n",
        "\n",
        "for i in range(n_components_to_display):\n",
        "    component_loadings = loadings[i]\n",
        "    abs_loadings = np.abs(component_loadings)\n",
        "    top_indices = abs_loadings.argsort()[::-1][:top_n]\n",
        "\n",
        "    print(f\"\\nFor principal component {i+1}:\")\n",
        "    for idx in top_indices:\n",
        "        print(f\"{feature_names[idx]} \\t {component_loadings[idx]:.4f}\")"
      ]
    },
    {
      "cell_type": "markdown",
      "metadata": {},
      "source": [
        "From this plot we can see that for 13 components the explained variance is more than 90%, considering that the number of features is 644, this means that most of the features are correlated and so their contibution of information is redundant. It is important to highlight that we observed that PC1 was driven by first-order intensity statistics related to the RV and LV at ED and ES phases. PC2 captured geometric variations in the myocardium and PCs 3–13 were characterized by texture-based features across all anatomical structures. The separation of feature types across principal components highlights that different sources of variation (shape, intensity, texture) are present."
      ]
    },
    {
      "cell_type": "markdown",
      "metadata": {},
      "source": [
        "Let's try and plot the first 13 PCs against each other to see if the classes are separated well."
      ]
    },
    {
      "cell_type": "code",
      "execution_count": null,
      "metadata": {},
      "outputs": [],
      "source": [
        "import pandas as pd\n",
        "pc_df = pd.DataFrame(X_pca[:, :13], columns=[f'PC{i+1}' for i in range(13)])\n",
        "pc_df['label'] = y.values\n",
        "\n",
        "sns.pairplot(pc_df, hue='label', palette='tab10')\n",
        "plt.suptitle('Pairwise PCA component plots', y=1.02)\n",
        "plt.show()"
      ]
    },
    {
      "cell_type": "markdown",
      "metadata": {},
      "source": [
        "We have seen that the first 13 principal components explain the 90%% of the variance so we'll do a heatmap of the components of each PC to see the similarity between them."
      ]
    },
    {
      "cell_type": "code",
      "execution_count": null,
      "metadata": {},
      "outputs": [],
      "source": [
        "n_components = 13\n",
        "loadings = pd.DataFrame(\n",
        "    pca.components_.T[:, :n_components],\n",
        "    columns=[f'PC{i+1}' for i in range(n_components)],\n",
        "    index=X.columns\n",
        ")\n",
        "\n",
        "plt.figure(figsize=(12,8))\n",
        "sns.heatmap(loadings, cmap='coolwarm', center=0)\n",
        "plt.title('PCA Components Heatmap')\n",
        "plt.show()"
      ]
    },
    {
      "cell_type": "markdown",
      "metadata": {},
      "source": [
        "The heatmap is too messy so we will select the top 10 features and represent them to better visualize the correlation between PCs."
      ]
    },
    {
      "cell_type": "code",
      "execution_count": null,
      "metadata": {},
      "outputs": [],
      "source": [
        "loadings = pd.DataFrame(\n",
        "    pca.components_.T,\n",
        "    columns=[f'PC{i+1}' for i in range(pca.n_components_)],\n",
        "    index=X.columns\n",
        ")\n",
        "\n",
        "top_features = []\n",
        "\n",
        "# Pick top 10 features for each principal component\n",
        "for pc in loadings.columns:\n",
        "    top = loadings[pc].abs().sort_values(ascending=False).head(10).index\n",
        "    top_features.extend(top)\n",
        "\n",
        "# Remove duplicates\n",
        "top_features = list(set(top_features))\n",
        "\n",
        "# Create a smaller loadings matrix\n",
        "small_loadings = loadings.loc[top_features]\n",
        "\n",
        "# Plot the small heatmap\n",
        "plt.figure(figsize=(12,8))\n",
        "sns.heatmap(small_loadings, cmap='coolwarm', center=0, annot=False)\n",
        "plt.title('Top contributing features to principal components')\n",
        "plt.show()"
      ]
    },
    {
      "cell_type": "markdown",
      "metadata": {},
      "source": [
        "Once having decided how many PCs are useful, we can plot a UMAP using those 13 principal components to even get the 13 dimensions down to 2 dimensions. However, UMAP might not be classifying visually the labels because it is a nonlinear projection mainly optimized for visualization, not classification."
      ]
    },
    {
      "cell_type": "code",
      "execution_count": null,
      "metadata": {},
      "outputs": [],
      "source": [
        "import umap\n",
        "\n",
        "#UMAP after PCA\n",
        "reducer = umap.UMAP(random_state=42)\n",
        "X_umap = reducer.fit_transform(X_pca)\n",
        "\n",
        "#Plot UMAP\n",
        "plt.figure(figsize=(10,8))\n",
        "sns.scatterplot(\n",
        "    x=X_umap[:, 0], y=X_umap[:, 1],\n",
        "    hue=y.values,\n",
        "    palette='tab10',\n",
        "    s=60,\n",
        "    alpha=0.8\n",
        ")\n",
        "plt.title('UMAP projection after PCA (colored by predicted class)')\n",
        "plt.xlabel('UMAP 1')\n",
        "plt.ylabel('UMAP 2')\n",
        "plt.legend(title='Predicted Class', bbox_to_anchor=(1.05, 1), loc='upper left')\n",
        "plt.tight_layout()\n",
        "plt.show()"
      ]
    },
    {
      "cell_type": "markdown",
      "metadata": {
        "id": "wTfYkBTjVfhb"
      },
      "source": [
        "Now, it is time to use **t-SNE**, that will allow us to visualize the high dimensional data in 2D and identify local structures (small clusters, subgroups)."
      ]
    },
    {
      "cell_type": "code",
      "execution_count": null,
      "metadata": {
        "colab": {
          "base_uri": "https://localhost:8080/",
          "height": 501
        },
        "id": "nekisOguVf8d",
        "outputId": "97ec723c-a02a-4421-cc48-877a92984271"
      },
      "outputs": [
        {
          "data": {
            "text/plain": [
              "<Axes: xlabel='Dim1', ylabel='Dim2'>"
            ]
          },
          "execution_count": 71,
          "metadata": {},
          "output_type": "execute_result"
        },
        {
          "data": {
            "image/png": "[encoded data removed]",
            "text/plain": [
              "<Figure size 640x480 with 1 Axes>"
            ]
          },
          "metadata": {},
          "output_type": "display_data"
        }
      ],
      "source": [
        "from sklearn.manifold import TSNE\n",
        "\n",
        "#Fit t-SNE on the PCA-transformed data\n",
        "tsne = TSNE(n_components=2, random_state=42, perplexity=30)\n",
        "X_tsne = tsne.fit_transform(X_pca)\n",
        "\n",
        "#Plot t-SNE colored by TRUE labels\n",
        "plt.figure(figsize=(10,8))\n",
        "sns.scatterplot(\n",
        "    x=X_tsne[:, 0], y=X_tsne[:, 1],\n",
        "    hue=y.values,\n",
        "    palette='tab10',\n",
        "    s=60,\n",
        "    alpha=0.8\n",
        ")\n",
        "plt.title('t-SNE projection after PCA (colored by TRUE labels)')\n",
        "plt.xlabel('t-SNE 1')\n",
        "plt.ylabel('t-SNE 2')\n",
        "plt.legend(title='True Class', bbox_to_anchor=(1.05, 1), loc='upper left')\n",
        "plt.tight_layout()\n",
        "plt.show()\n"
      ]
    },
    {
      "cell_type": "code",
      "execution_count": null,
      "metadata": {},
      "outputs": [],
      "source": [
        "len(top_features) #120 features\n",
        "top_features # top features contributing to the first 13 PCs"
      ]
    },
    {
      "cell_type": "markdown",
      "metadata": {
        "id": "9rG9Elo9jbxc"
      },
      "source": [
        "The results show good separation between the RV group that is clustered at the top right and the HCM group which is mostly packed in the bottom right eventhough there are some outliers. MINF and DCM are very mixed and NOR is scattered between all of the groups.\n",
        "\n",
        "However, we don't have to worry. t-SNE prioritizes local structures, not class separation, PCA classification is what matters most."
      ]
    },
    {
      "cell_type": "markdown",
      "metadata": {
        "id": "jJSdEZRUVgam"
      },
      "source": [
        "Finally, we will perform a **k-means** claustering in order to see how well the different classes can be separated using all the features we have."
      ]
    },
    {
      "cell_type": "code",
      "execution_count": null,
      "metadata": {
        "colab": {
          "base_uri": "https://localhost:8080/"
        },
        "id": "zO3Mq7bfVjMN",
        "outputId": "bcd0eb3a-6d32-4f27-f4c4-3ef108f09477"
      },
      "outputs": [
        {
          "name": "stdout",
          "output_type": "stream",
          "text": [
            "class  DCM  HCM  MINF  NOR  RV\n",
            "row_0                         \n",
            "0        0    1     1    0   0\n",
            "1        5   11     5    8   3\n",
            "2       12    6    14   10  17\n",
            "3        0    0     0    1   0\n",
            "4        3    2     0    1   0\n"
          ]
        }
      ],
      "source": [
        "from sklearn.cluster import KMeans\n",
        "import numpy as np\n",
        "\n",
        "kmeans = KMeans(n_clusters=5, init='k-means++', random_state=42)\n",
        "clusters = kmeans.fit_predict(X_scaled)\n",
        "\n",
        "# Compare to actual labels\n",
        "ct = pd.crosstab(clusters, df[\"class\"])\n",
        "print(ct)"
      ]
    },
    {
      "cell_type": "markdown",
      "metadata": {
        "id": "3d5KfRGFVjjp"
      },
      "source": [
        "Clausters 0, 3 and 4 have very few elements, which will be not relevant for our analysis. Regarding to clauster 2 it seems that the algorithm is capable of separating classes DCM, MINF and RV from the others but not distinguishing among them with this set of features. Clauster 1 seems to be slightly good at identifying HCM from the rest of the classes but with some problems. This suggests us that for discriminating the different classes some feature selection and engeneering should be done."
      ]
    },
    {
      "cell_type": "markdown",
      "metadata": {
        "id": "RC5nl6oUxRS-"
      },
      "source": [
        "It is important to highlight that results in the k-means are similar to the ones obtained in the t-SNE, wich makes the results consistant. What we can ensure is that from our dataset, HCM is very different from MINF and RV, the other classes are not that different from the rest. In order to distinguish between all of them, some feature engeneering and reduction should be done."
      ]
    },
    {
      "cell_type": "markdown",
      "metadata": {
        "id": "m51vk1U2guAk"
      },
      "source": [
        "### **1.3. Plotting Non-Radiomic Features**"
      ]
    },
    {
      "cell_type": "markdown",
      "metadata": {
        "id": "SueU6EOBeyWt"
      },
      "source": [
        "This section aims to do some visual representation of the non-radiomic features in the dataset."
      ]
    },
    {
      "cell_type": "markdown",
      "metadata": {
        "id": "rmioACdpeixr"
      },
      "source": [
        "First of all, we will see the class distribution in a bar plot. It can be seen that the nomber of classes is balanced in the dataset."
      ]
    },
    {
      "cell_type": "code",
      "execution_count": 73,
      "metadata": {
        "colab": {
          "base_uri": "https://localhost:8080/",
          "height": 584
        },
        "id": "_vIhFYgUdoO5",
        "outputId": "e8ed71c0-7f70-47bf-abd7-731c5f828cec"
      },
      "outputs": [
        {
          "data": {
            "image/png": "[encoded data removed]",
            "text/plain": [
              "<Figure size 800x600 with 1 Axes>"
            ]
          },
          "metadata": {},
          "output_type": "display_data"
        }
      ],
      "source": [
        "# Adistributions of class\n",
        "class_counts = df['class'].value_counts()\n",
        "plt.figure(figsize=(8, 6))\n",
        "class_counts.plot(kind='bar', color='skyblue')\n",
        "plt.title('Class Distribution')\n",
        "plt.xlabel('Class')\n",
        "plt.ylabel('Count')\n",
        "plt.xticks(rotation=45)\n",
        "plt.show()"
      ]
    },
    {
      "cell_type": "markdown",
      "metadata": {
        "id": "pk4CY8_9e51y"
      },
      "source": [
        "Now, we will plot the distribution of height and weight. As it can be seen they are normally distriibuted."
      ]
    },
    {
      "cell_type": "code",
      "execution_count": 74,
      "metadata": {
        "colab": {
          "base_uri": "https://localhost:8080/",
          "height": 361
        },
        "id": "EmUvTA9FszkW",
        "outputId": "76384317-79ea-44a8-d815-33c3039744bb"
      },
      "outputs": [
        {
          "data": {
            "image/png": "[encoded data removed]",
            "text/plain": [
              "<Figure size 1200x500 with 2 Axes>"
            ]
          },
          "metadata": {},
          "output_type": "display_data"
        }
      ],
      "source": [
        "# distributions of height and weight\n",
        "fig1, axes1 = plt.subplots(1, 2, figsize=(12, 5))\n",
        "sns.histplot(df['height'], kde=True, ax=axes1[0], color='skyblue')\n",
        "axes1[0].set_title('Distribution of Height')\n",
        "sns.histplot(df['weight'], kde=True, ax=axes1[1], color='salmon')\n",
        "axes1[1].set_title('Distribution of Weight')\n",
        "plt.tight_layout()\n",
        "plt.show()"
      ]
    },
    {
      "cell_type": "markdown",
      "metadata": {
        "id": "qSOp4rZefdLB"
      },
      "source": [
        "Moreover, we will see the distribution of those variables by class. It can be seen that there are not huge differences in height, but there are slightly ones in weight."
      ]
    },
    {
      "cell_type": "code",
      "execution_count": 75,
      "metadata": {
        "colab": {
          "base_uri": "https://localhost:8080/",
          "height": 361
        },
        "id": "3Za-3Rissz25",
        "outputId": "c4bd3acd-c94e-4532-8f4d-751e1e38d0cd"
      },
      "outputs": [
        {
          "data": {
            "image/png": "[encoded data removed]",
            "text/plain": [
              "<Figure size 1200x500 with 2 Axes>"
            ]
          },
          "metadata": {},
          "output_type": "display_data"
        }
      ],
      "source": [
        "# distributions of height and weight by class\n",
        "fig2, axes2 = plt.subplots(1, 2, figsize=(12, 5))\n",
        "sns.histplot(data=df, x='height', hue='class', kde=True, ax=axes2[0])\n",
        "axes2[0].set_title('Distribution of Height by Class')\n",
        "sns.histplot(data=df, x='weight', hue='class', kde=True, ax=axes2[1])\n",
        "axes2[1].set_title('Distribution of Weight by Class')\n",
        "plt.tight_layout()\n",
        "plt.show()"
      ]
    },
    {
      "cell_type": "markdown",
      "metadata": {
        "id": "PHr7rbV-fHyM"
      },
      "source": [
        "Finally, we will do a scatterplot of Height vs Weight, which can be seen that are a little correlated. When colouring them by class, it is not possible to distinguish the different classes."
      ]
    },
    {
      "cell_type": "code",
      "execution_count": 76,
      "metadata": {
        "colab": {
          "base_uri": "https://localhost:8080/",
          "height": 564
        },
        "id": "qmy7wOiNsG5h",
        "outputId": "300ce572-90f0-4bf3-cd04-83e047f689da"
      },
      "outputs": [
        {
          "data": {
            "image/png": "[encoded data removed]",
            "text/plain": [
              "<Figure size 800x600 with 1 Axes>"
            ]
          },
          "metadata": {},
          "output_type": "display_data"
        }
      ],
      "source": [
        "# scatter plot of height vs weight colored by class\n",
        "plt.figure(figsize=(8, 6))\n",
        "sns.scatterplot(data=df, x='height', y='weight', hue='class', palette='deep')\n",
        "plt.title('Height vs Weight by Class')\n",
        "plt.show()"
      ]
    },
    {
      "cell_type": "markdown",
      "metadata": {
        "id": "fFuVPQQDD8Fp"
      },
      "source": [
        "## **2. Training and Validation Set Creation**"
      ]
    },
    {
      "cell_type": "markdown",
      "metadata": {
        "id": "iWm_JomFefo9"
      },
      "source": [
        "In order to be able to get a good fitting of the model and a reliable metric for the performance it is necessary to separate the dataset into three different sets:\n",
        "\n",
        "- **Training set (60–80%)**: Used to fit the model and learn patterns from the data.\n",
        "\n",
        "- **Validation set (10–20%)**: Used to tune hyperparameters and monitor model performance during training.\n",
        "\n",
        "- **Test set (10–20%)**: Used to evaluate the final model’s performance on unseen data.\n",
        "\n",
        "This section aims to devide the dataset into this groups in order to have it prepared to build our models."
      ]
    },
    {
      "cell_type": "markdown",
      "metadata": {
        "id": "WNsFQwO2fIaQ"
      },
      "source": [
        "First of all it is important to separete our target variable class from the rest of the features."
      ]
    },
    {
      "cell_type": "code",
      "execution_count": 77,
      "metadata": {
        "id": "jmm9NyvlFhxW"
      },
      "outputs": [],
      "source": [
        "import pandas as pd\n",
        "X = df.drop(columns=['class'])  # Features\n",
        "y = df['class']  # Target"
      ]
    },
    {
      "cell_type": "code",
      "execution_count": 78,
      "metadata": {},
      "outputs": [
        {
          "data": {
            "text/html": [
              "<div>\n",
              "<style scoped>\n",
              "    .dataframe tbody tr th:only-of-type {\n",
              "        vertical-align: middle;\n",
              "    }\n",
              "\n",
              "    .dataframe tbody tr th {\n",
              "        vertical-align: top;\n",
              "    }\n",
              "\n",
              "    .dataframe thead th {\n",
              "        text-align: right;\n",
              "    }\n",
              "</style>\n",
              "<table border=\"1\" class=\"dataframe\">\n",
              "  <thead>\n",
              "    <tr style=\"text-align: right;\">\n",
              "      <th></th>\n",
              "      <th>original_shape_Elongation_LV_ED</th>\n",
              "      <th>original_shape_Flatness_LV_ED</th>\n",
              "      <th>original_shape_LeastAxisLength_LV_ED</th>\n",
              "      <th>original_shape_MajorAxisLength_LV_ED</th>\n",
              "      <th>original_shape_Maximum2DDiameterColumn_LV_ED</th>\n",
              "      <th>original_shape_Maximum2DDiameterRow_LV_ED</th>\n",
              "      <th>original_shape_Maximum2DDiameterSlice_LV_ED</th>\n",
              "      <th>original_shape_Maximum3DDiameter_LV_ED</th>\n",
              "      <th>original_shape_MeshVolume_LV_ED</th>\n",
              "      <th>original_shape_MinorAxisLength_LV_ED</th>\n",
              "      <th>...</th>\n",
              "      <th>original_glszm_ZoneEntropy_MYO_ES</th>\n",
              "      <th>original_glszm_ZonePercentage_MYO_ES</th>\n",
              "      <th>original_glszm_ZoneVariance_MYO_ES</th>\n",
              "      <th>original_ngtdm_Busyness_MYO_ES</th>\n",
              "      <th>original_ngtdm_Coarseness_MYO_ES</th>\n",
              "      <th>original_ngtdm_Complexity_MYO_ES</th>\n",
              "      <th>original_ngtdm_Contrast_MYO_ES</th>\n",
              "      <th>original_ngtdm_Strength_MYO_ES</th>\n",
              "      <th>height</th>\n",
              "      <th>weight</th>\n",
              "    </tr>\n",
              "  </thead>\n",
              "  <tbody>\n",
              "    <tr>\n",
              "      <th>0</th>\n",
              "      <td>0.560917</td>\n",
              "      <td>0.110560</td>\n",
              "      <td>6.592758</td>\n",
              "      <td>59.630582</td>\n",
              "      <td>45.398238</td>\n",
              "      <td>64.776539</td>\n",
              "      <td>64.007812</td>\n",
              "      <td>65.199693</td>\n",
              "      <td>5674.000000</td>\n",
              "      <td>33.447817</td>\n",
              "      <td>...</td>\n",
              "      <td>4.842353</td>\n",
              "      <td>0.053567</td>\n",
              "      <td>40384.123570</td>\n",
              "      <td>19.552355</td>\n",
              "      <td>0.000993</td>\n",
              "      <td>36.034390</td>\n",
              "      <td>0.010496</td>\n",
              "      <td>0.091329</td>\n",
              "      <td>184</td>\n",
              "      <td>95</td>\n",
              "    </tr>\n",
              "    <tr>\n",
              "      <th>1</th>\n",
              "      <td>0.454960</td>\n",
              "      <td>0.088323</td>\n",
              "      <td>5.730218</td>\n",
              "      <td>64.877933</td>\n",
              "      <td>40.311289</td>\n",
              "      <td>64.140471</td>\n",
              "      <td>61.000000</td>\n",
              "      <td>67.446275</td>\n",
              "      <td>5015.833333</td>\n",
              "      <td>29.516875</td>\n",
              "      <td>...</td>\n",
              "      <td>4.638405</td>\n",
              "      <td>0.028344</td>\n",
              "      <td>130808.332098</td>\n",
              "      <td>29.225756</td>\n",
              "      <td>0.000722</td>\n",
              "      <td>17.238110</td>\n",
              "      <td>0.006596</td>\n",
              "      <td>0.045024</td>\n",
              "      <td>160</td>\n",
              "      <td>70</td>\n",
              "    </tr>\n",
              "    <tr>\n",
              "      <th>2</th>\n",
              "      <td>0.541682</td>\n",
              "      <td>0.105418</td>\n",
              "      <td>6.711577</td>\n",
              "      <td>63.666027</td>\n",
              "      <td>48.041649</td>\n",
              "      <td>66.843100</td>\n",
              "      <td>59.135438</td>\n",
              "      <td>68.080834</td>\n",
              "      <td>7817.666667</td>\n",
              "      <td>34.486772</td>\n",
              "      <td>...</td>\n",
              "      <td>4.390950</td>\n",
              "      <td>0.041404</td>\n",
              "      <td>92088.926893</td>\n",
              "      <td>20.732684</td>\n",
              "      <td>0.001106</td>\n",
              "      <td>13.916093</td>\n",
              "      <td>0.004455</td>\n",
              "      <td>0.069372</td>\n",
              "      <td>165</td>\n",
              "      <td>77</td>\n",
              "    </tr>\n",
              "    <tr>\n",
              "      <th>3</th>\n",
              "      <td>0.487949</td>\n",
              "      <td>0.105906</td>\n",
              "      <td>6.726159</td>\n",
              "      <td>63.510529</td>\n",
              "      <td>44.407207</td>\n",
              "      <td>66.370174</td>\n",
              "      <td>66.007575</td>\n",
              "      <td>66.475559</td>\n",
              "      <td>5629.166667</td>\n",
              "      <td>30.989912</td>\n",
              "      <td>...</td>\n",
              "      <td>5.632728</td>\n",
              "      <td>0.150855</td>\n",
              "      <td>5232.431686</td>\n",
              "      <td>5.158496</td>\n",
              "      <td>0.000848</td>\n",
              "      <td>216.183657</td>\n",
              "      <td>0.025431</td>\n",
              "      <td>0.208797</td>\n",
              "      <td>159</td>\n",
              "      <td>46</td>\n",
              "    </tr>\n",
              "    <tr>\n",
              "      <th>4</th>\n",
              "      <td>0.442150</td>\n",
              "      <td>0.095225</td>\n",
              "      <td>7.186765</td>\n",
              "      <td>75.471150</td>\n",
              "      <td>68.066144</td>\n",
              "      <td>77.472576</td>\n",
              "      <td>50.487622</td>\n",
              "      <td>77.472576</td>\n",
              "      <td>8550.083333</td>\n",
              "      <td>33.369563</td>\n",
              "      <td>...</td>\n",
              "      <td>4.942891</td>\n",
              "      <td>0.040613</td>\n",
              "      <td>91705.803093</td>\n",
              "      <td>18.086404</td>\n",
              "      <td>0.000710</td>\n",
              "      <td>41.886924</td>\n",
              "      <td>0.005266</td>\n",
              "      <td>0.123346</td>\n",
              "      <td>165</td>\n",
              "      <td>77</td>\n",
              "    </tr>\n",
              "    <tr>\n",
              "      <th>...</th>\n",
              "      <td>...</td>\n",
              "      <td>...</td>\n",
              "      <td>...</td>\n",
              "      <td>...</td>\n",
              "      <td>...</td>\n",
              "      <td>...</td>\n",
              "      <td>...</td>\n",
              "      <td>...</td>\n",
              "      <td>...</td>\n",
              "      <td>...</td>\n",
              "      <td>...</td>\n",
              "      <td>...</td>\n",
              "      <td>...</td>\n",
              "      <td>...</td>\n",
              "      <td>...</td>\n",
              "      <td>...</td>\n",
              "      <td>...</td>\n",
              "      <td>...</td>\n",
              "      <td>...</td>\n",
              "      <td>...</td>\n",
              "      <td>...</td>\n",
              "    </tr>\n",
              "    <tr>\n",
              "      <th>95</th>\n",
              "      <td>0.606237</td>\n",
              "      <td>0.264847</td>\n",
              "      <td>16.244584</td>\n",
              "      <td>61.335759</td>\n",
              "      <td>46.324939</td>\n",
              "      <td>68.593003</td>\n",
              "      <td>70.064256</td>\n",
              "      <td>70.377553</td>\n",
              "      <td>20000.500000</td>\n",
              "      <td>37.184019</td>\n",
              "      <td>...</td>\n",
              "      <td>4.020276</td>\n",
              "      <td>0.014766</td>\n",
              "      <td>397739.682708</td>\n",
              "      <td>35.712016</td>\n",
              "      <td>0.001875</td>\n",
              "      <td>1.734846</td>\n",
              "      <td>0.002444</td>\n",
              "      <td>0.023954</td>\n",
              "      <td>186</td>\n",
              "      <td>76</td>\n",
              "    </tr>\n",
              "    <tr>\n",
              "      <th>96</th>\n",
              "      <td>0.507357</td>\n",
              "      <td>0.102727</td>\n",
              "      <td>7.177584</td>\n",
              "      <td>69.870562</td>\n",
              "      <td>42.426407</td>\n",
              "      <td>75.663730</td>\n",
              "      <td>76.006579</td>\n",
              "      <td>76.661594</td>\n",
              "      <td>9423.750000</td>\n",
              "      <td>35.449290</td>\n",
              "      <td>...</td>\n",
              "      <td>4.094251</td>\n",
              "      <td>0.013379</td>\n",
              "      <td>152663.114725</td>\n",
              "      <td>39.264262</td>\n",
              "      <td>0.001726</td>\n",
              "      <td>3.087926</td>\n",
              "      <td>0.009951</td>\n",
              "      <td>0.018479</td>\n",
              "      <td>187</td>\n",
              "      <td>82</td>\n",
              "    </tr>\n",
              "    <tr>\n",
              "      <th>97</th>\n",
              "      <td>0.571326</td>\n",
              "      <td>0.099567</td>\n",
              "      <td>6.983155</td>\n",
              "      <td>70.134966</td>\n",
              "      <td>54.000000</td>\n",
              "      <td>79.555012</td>\n",
              "      <td>73.000000</td>\n",
              "      <td>79.555012</td>\n",
              "      <td>10471.333333</td>\n",
              "      <td>40.069911</td>\n",
              "      <td>...</td>\n",
              "      <td>3.242586</td>\n",
              "      <td>0.010246</td>\n",
              "      <td>342202.419693</td>\n",
              "      <td>59.062319</td>\n",
              "      <td>0.001263</td>\n",
              "      <td>1.744393</td>\n",
              "      <td>0.009936</td>\n",
              "      <td>0.007259</td>\n",
              "      <td>167</td>\n",
              "      <td>50</td>\n",
              "    </tr>\n",
              "    <tr>\n",
              "      <th>98</th>\n",
              "      <td>0.645987</td>\n",
              "      <td>0.247128</td>\n",
              "      <td>12.974486</td>\n",
              "      <td>52.501013</td>\n",
              "      <td>44.643029</td>\n",
              "      <td>57.558666</td>\n",
              "      <td>58.008620</td>\n",
              "      <td>58.429445</td>\n",
              "      <td>12517.750000</td>\n",
              "      <td>33.914988</td>\n",
              "      <td>...</td>\n",
              "      <td>3.550906</td>\n",
              "      <td>0.014347</td>\n",
              "      <td>161138.065902</td>\n",
              "      <td>42.061917</td>\n",
              "      <td>0.001343</td>\n",
              "      <td>3.895755</td>\n",
              "      <td>0.016194</td>\n",
              "      <td>0.011354</td>\n",
              "      <td>180</td>\n",
              "      <td>80</td>\n",
              "    </tr>\n",
              "    <tr>\n",
              "      <th>99</th>\n",
              "      <td>0.430057</td>\n",
              "      <td>0.101889</td>\n",
              "      <td>7.580517</td>\n",
              "      <td>74.399967</td>\n",
              "      <td>38.327536</td>\n",
              "      <td>74.330344</td>\n",
              "      <td>75.059976</td>\n",
              "      <td>75.451971</td>\n",
              "      <td>10658.791667</td>\n",
              "      <td>31.996214</td>\n",
              "      <td>...</td>\n",
              "      <td>3.433232</td>\n",
              "      <td>0.026410</td>\n",
              "      <td>122334.373500</td>\n",
              "      <td>42.055207</td>\n",
              "      <td>0.002288</td>\n",
              "      <td>1.570055</td>\n",
              "      <td>0.006749</td>\n",
              "      <td>0.011785</td>\n",
              "      <td>165</td>\n",
              "      <td>63</td>\n",
              "    </tr>\n",
              "  </tbody>\n",
              "</table>\n",
              "<p>100 rows × 644 columns</p>\n",
              "</div>"
            ],
            "text/plain": [
              "    original_shape_Elongation_LV_ED  original_shape_Flatness_LV_ED  \\\n",
              "0                          0.560917                       0.110560   \n",
              "1                          0.454960                       0.088323   \n",
              "2                          0.541682                       0.105418   \n",
              "3                          0.487949                       0.105906   \n",
              "4                          0.442150                       0.095225   \n",
              "..                              ...                            ...   \n",
              "95                         0.606237                       0.264847   \n",
              "96                         0.507357                       0.102727   \n",
              "97                         0.571326                       0.099567   \n",
              "98                         0.645987                       0.247128   \n",
              "99                         0.430057                       0.101889   \n",
              "\n",
              "    original_shape_LeastAxisLength_LV_ED  \\\n",
              "0                               6.592758   \n",
              "1                               5.730218   \n",
              "2                               6.711577   \n",
              "3                               6.726159   \n",
              "4                               7.186765   \n",
              "..                                   ...   \n",
              "95                             16.244584   \n",
              "96                              7.177584   \n",
              "97                              6.983155   \n",
              "98                             12.974486   \n",
              "99                              7.580517   \n",
              "\n",
              "    original_shape_MajorAxisLength_LV_ED  \\\n",
              "0                              59.630582   \n",
              "1                              64.877933   \n",
              "2                              63.666027   \n",
              "3                              63.510529   \n",
              "4                              75.471150   \n",
              "..                                   ...   \n",
              "95                             61.335759   \n",
              "96                             69.870562   \n",
              "97                             70.134966   \n",
              "98                             52.501013   \n",
              "99                             74.399967   \n",
              "\n",
              "    original_shape_Maximum2DDiameterColumn_LV_ED  \\\n",
              "0                                      45.398238   \n",
              "1                                      40.311289   \n",
              "2                                      48.041649   \n",
              "3                                      44.407207   \n",
              "4                                      68.066144   \n",
              "..                                           ...   \n",
              "95                                     46.324939   \n",
              "96                                     42.426407   \n",
              "97                                     54.000000   \n",
              "98                                     44.643029   \n",
              "99                                     38.327536   \n",
              "\n",
              "    original_shape_Maximum2DDiameterRow_LV_ED  \\\n",
              "0                                   64.776539   \n",
              "1                                   64.140471   \n",
              "2                                   66.843100   \n",
              "3                                   66.370174   \n",
              "4                                   77.472576   \n",
              "..                                        ...   \n",
              "95                                  68.593003   \n",
              "96                                  75.663730   \n",
              "97                                  79.555012   \n",
              "98                                  57.558666   \n",
              "99                                  74.330344   \n",
              "\n",
              "    original_shape_Maximum2DDiameterSlice_LV_ED  \\\n",
              "0                                     64.007812   \n",
              "1                                     61.000000   \n",
              "2                                     59.135438   \n",
              "3                                     66.007575   \n",
              "4                                     50.487622   \n",
              "..                                          ...   \n",
              "95                                    70.064256   \n",
              "96                                    76.006579   \n",
              "97                                    73.000000   \n",
              "98                                    58.008620   \n",
              "99                                    75.059976   \n",
              "\n",
              "    original_shape_Maximum3DDiameter_LV_ED  original_shape_MeshVolume_LV_ED  \\\n",
              "0                                65.199693                      5674.000000   \n",
              "1                                67.446275                      5015.833333   \n",
              "2                                68.080834                      7817.666667   \n",
              "3                                66.475559                      5629.166667   \n",
              "4                                77.472576                      8550.083333   \n",
              "..                                     ...                              ...   \n",
              "95                               70.377553                     20000.500000   \n",
              "96                               76.661594                      9423.750000   \n",
              "97                               79.555012                     10471.333333   \n",
              "98                               58.429445                     12517.750000   \n",
              "99                               75.451971                     10658.791667   \n",
              "\n",
              "    original_shape_MinorAxisLength_LV_ED  ...  \\\n",
              "0                              33.447817  ...   \n",
              "1                              29.516875  ...   \n",
              "2                              34.486772  ...   \n",
              "3                              30.989912  ...   \n",
              "4                              33.369563  ...   \n",
              "..                                   ...  ...   \n",
              "95                             37.184019  ...   \n",
              "96                             35.449290  ...   \n",
              "97                             40.069911  ...   \n",
              "98                             33.914988  ...   \n",
              "99                             31.996214  ...   \n",
              "\n",
              "    original_glszm_ZoneEntropy_MYO_ES  original_glszm_ZonePercentage_MYO_ES  \\\n",
              "0                            4.842353                              0.053567   \n",
              "1                            4.638405                              0.028344   \n",
              "2                            4.390950                              0.041404   \n",
              "3                            5.632728                              0.150855   \n",
              "4                            4.942891                              0.040613   \n",
              "..                                ...                                   ...   \n",
              "95                           4.020276                              0.014766   \n",
              "96                           4.094251                              0.013379   \n",
              "97                           3.242586                              0.010246   \n",
              "98                           3.550906                              0.014347   \n",
              "99                           3.433232                              0.026410   \n",
              "\n",
              "    original_glszm_ZoneVariance_MYO_ES  original_ngtdm_Busyness_MYO_ES  \\\n",
              "0                         40384.123570                       19.552355   \n",
              "1                        130808.332098                       29.225756   \n",
              "2                         92088.926893                       20.732684   \n",
              "3                          5232.431686                        5.158496   \n",
              "4                         91705.803093                       18.086404   \n",
              "..                                 ...                             ...   \n",
              "95                       397739.682708                       35.712016   \n",
              "96                       152663.114725                       39.264262   \n",
              "97                       342202.419693                       59.062319   \n",
              "98                       161138.065902                       42.061917   \n",
              "99                       122334.373500                       42.055207   \n",
              "\n",
              "    original_ngtdm_Coarseness_MYO_ES  original_ngtdm_Complexity_MYO_ES  \\\n",
              "0                           0.000993                         36.034390   \n",
              "1                           0.000722                         17.238110   \n",
              "2                           0.001106                         13.916093   \n",
              "3                           0.000848                        216.183657   \n",
              "4                           0.000710                         41.886924   \n",
              "..                               ...                               ...   \n",
              "95                          0.001875                          1.734846   \n",
              "96                          0.001726                          3.087926   \n",
              "97                          0.001263                          1.744393   \n",
              "98                          0.001343                          3.895755   \n",
              "99                          0.002288                          1.570055   \n",
              "\n",
              "    original_ngtdm_Contrast_MYO_ES  original_ngtdm_Strength_MYO_ES  height  \\\n",
              "0                         0.010496                        0.091329     184   \n",
              "1                         0.006596                        0.045024     160   \n",
              "2                         0.004455                        0.069372     165   \n",
              "3                         0.025431                        0.208797     159   \n",
              "4                         0.005266                        0.123346     165   \n",
              "..                             ...                             ...     ...   \n",
              "95                        0.002444                        0.023954     186   \n",
              "96                        0.009951                        0.018479     187   \n",
              "97                        0.009936                        0.007259     167   \n",
              "98                        0.016194                        0.011354     180   \n",
              "99                        0.006749                        0.011785     165   \n",
              "\n",
              "    weight  \n",
              "0       95  \n",
              "1       70  \n",
              "2       77  \n",
              "3       46  \n",
              "4       77  \n",
              "..     ...  \n",
              "95      76  \n",
              "96      82  \n",
              "97      50  \n",
              "98      80  \n",
              "99      63  \n",
              "\n",
              "[100 rows x 644 columns]"
            ]
          },
          "execution_count": 78,
          "metadata": {},
          "output_type": "execute_result"
        }
      ],
      "source": [
        "X"
      ]
    },
    {
      "cell_type": "markdown",
      "metadata": {
        "id": "HxTd2_kdfrWi"
      },
      "source": [
        "Then, we will do a simple train-test split in order to generate a train set and a test set. We will make the test set to include 20% of our data and beeing stratified, meaning that the proportion of each target class will be preserved."
      ]
    },
    {
      "cell_type": "code",
      "execution_count": 79,
      "metadata": {
        "id": "PUnBpWsbGI-d"
      },
      "outputs": [],
      "source": [
        "from sklearn.model_selection import train_test_split\n",
        "X_train_val, X_test, y_train_val, y_test = train_test_split(X, y, test_size=0.2, stratify=y, random_state=42)"
      ]
    },
    {
      "cell_type": "markdown",
      "metadata": {
        "id": "YRyrYpKRgQMp"
      },
      "source": [
        "However, we have two different sets now, but we need to create an additional validation set in order to use it to tune the hyperparameters of our model. For that we will use different thecniques to do that."
      ]
    },
    {
      "cell_type": "markdown",
      "metadata": {
        "id": "BxCCuXD2girh"
      },
      "source": [
        "First of all we will do a **simple splitting** (as done with the test set), where 20% of the data generated before will go to the validation set and the rest will be left to training set. It is important to remark that the splitting is stratifyed as well in this case."
      ]
    },
    {
      "cell_type": "code",
      "execution_count": 80,
      "metadata": {
        "id": "72UCOM99EqCy"
      },
      "outputs": [],
      "source": [
        "X_train, X_val, y_train, y_val = train_test_split(X_train_val, y_train_val, test_size=0.2, stratify=y_train_val, random_state=42)"
      ]
    },
    {
      "cell_type": "markdown",
      "metadata": {
        "id": "S6fHyO6zhdZl"
      },
      "source": [
        "Additionally, we will make a stratified **K-Fold cross-validation** strategy with 5 splits (so that a 20% of the data is used as validation each time). This means that the dataset will be divided into 5 folds preserving the class distribution and the model will be trained and validated 5 times, each time using a different fold for validation and the remaining ones for training."
      ]
    },
    {
      "cell_type": "code",
      "execution_count": 81,
      "metadata": {
        "id": "5m98F4ZOFg-w"
      },
      "outputs": [],
      "source": [
        "from sklearn.model_selection import StratifiedKFold\n",
        "kfold = StratifiedKFold(n_splits=5, shuffle=True, random_state=42)"
      ]
    },
    {
      "cell_type": "markdown",
      "metadata": {
        "id": "LZjfhU7PiDaH"
      },
      "source": [
        "Finally, we will use the **leave one out** method wich is an other cross-validation approach that in this case will use just 1 sample as validation and rest of the samples will be left as training set. The model will be validated as many times as samples are in the dataset."
      ]
    },
    {
      "cell_type": "code",
      "execution_count": 82,
      "metadata": {
        "id": "l-iUK3LPFhYL"
      },
      "outputs": [],
      "source": [
        "from sklearn.model_selection import LeaveOneOut\n",
        "loo = LeaveOneOut()"
      ]
    },
    {
      "cell_type": "markdown",
      "metadata": {
        "id": "TzQN4rROEJQQ"
      },
      "source": [
        "## **3. Baseline Models**"
      ]
    },
    {
      "cell_type": "markdown",
      "metadata": {},
      "source": [
        "Since we are asked to include all the features and only have 100 samples, the accurate training of the model will be a bit challenging. To address this, we will use the dataset mentioned above along with three training and validation methods: simple split, 5-fold cross-validation, and leave-one-out cross-validation. Since the problem is a supervised classification task, we will try the following models:\n",
        "\n",
        "- SVM (Suport Vector Machine): A powerful classifier that works well with high-dimensional data (more features than samples). The SVM with a non-linear kernel  is particularly suited for complex relationships between features.\n",
        "\n",
        "- NN (Neural Networks): Neural networks are effective for learning non-linear patterns in data. Given the relatively small dataset, we will use a simple feedforward neural network (e.g., MLPClassifier), which balances model complexity and training requirements.\n",
        "\n",
        "- KNN (K nearest neighbors): A simple and interpretable method that classifies based on the nearest neighbors. It can be useful when relationships between data points are not explicitly modeled but are local.\n",
        "\n",
        "- RF (Random Forest): A robust ensemble method that reduces overfitting by averaging predictions from multiple decision trees. It’s effective in handling high-dimensional data.\n",
        "\n",
        "- XGB (Extreme Gradient Boosting): A powerful gradient boosting algorithm that has shown strong performance in many classification tasks, especially when dealing with complex feature interactions.\n",
        "\n",
        "The pipeline will involve standardizing the data, training, validating, and testing the model using the three techniques mentioned above. Afterward, we will discuss the results of each case. For evaluation, we will use common metrics such as AUC (since the classes are balanced), and additional metrics from the confusion matrix, including accuracy, specificity, and sensitivity."
      ]
    },
    {
      "cell_type": "code",
      "execution_count": 83,
      "metadata": {},
      "outputs": [],
      "source": [
        "from sklearn.preprocessing import LabelEncoder\n",
        "\n",
        "label_encoder = LabelEncoder()\n",
        "\n",
        "y_train = label_encoder.fit_transform(y_train)\n",
        "y_train_val = label_encoder.fit_transform(y_train_val)\n",
        "y_val = label_encoder.transform(y_val) \n",
        "y_test = label_encoder.transform(y_test)  "
      ]
    },
    {
      "cell_type": "code",
      "execution_count": 84,
      "metadata": {},
      "outputs": [],
      "source": [
        "# first we are going to create all the models with their corresponding hyperparameters to train\n",
        "\n",
        "from sklearn.svm import SVC\n",
        "from sklearn.neural_network import MLPClassifier\n",
        "from sklearn.neighbors import KNeighborsClassifier\n",
        "from sklearn.ensemble import RandomForestClassifier\n",
        "from xgboost import XGBClassifier\n",
        "\n",
        "models = {\n",
        "    'SVM': SVC(probability=True),\n",
        "    'NN': MLPClassifier(max_iter=500, random_state=42),\n",
        "    'KNN': KNeighborsClassifier(),\n",
        "    'RF': RandomForestClassifier(random_state=42),\n",
        "    'XGB': XGBClassifier(use_label_encoder=False, eval_metric='mlogloss', random_state=42)\n",
        "}\n",
        "\n",
        "param_grids = {\n",
        "    'SVM': {\n",
        "        'C': [0.1, 1, 10],\n",
        "        'kernel': ['linear', 'rbf'],\n",
        "        'gamma': ['scale', 'auto']\n",
        "    },\n",
        "    'NN': {\n",
        "        'hidden_layer_sizes': [(50,), (100,), (150,)],\n",
        "        'activation': ['relu', 'tanh'],\n",
        "        'solver': ['adam', 'sgd'],\n",
        "        'learning_rate': ['constant', 'adaptive']\n",
        "    },\n",
        "    'KNN': {\n",
        "        'n_neighbors': [3, 5, 7],\n",
        "        'weights': ['uniform', 'distance'],\n",
        "        'metric': ['euclidean', 'manhattan']\n",
        "    },\n",
        "    'RF': {\n",
        "        'n_estimators': [50, 100, 200],\n",
        "        'max_depth': [None, 10, 20, 30],\n",
        "        'min_samples_split': [2, 5, 10],\n",
        "        'min_samples_leaf': [1, 2, 4]\n",
        "    },\n",
        "    'XGB': {\n",
        "        'n_estimators': [50, 100, 200],\n",
        "        'learning_rate': [0.01, 0.1, 0.3],\n",
        "        'max_depth': [3, 5, 7],\n",
        "        'subsample': [0.8, 1.0]\n",
        "    }\n",
        "}"
      ]
    },
    {
      "cell_type": "code",
      "execution_count": null,
      "metadata": {},
      "outputs": [],
      "source": [
        "# now we create a function to fit and evaluate each model depending on if we have simple split or cross validation\n",
        "\n",
        "from sklearn.model_selection import GridSearchCV, cross_val_predict\n",
        "from sklearn.metrics import (\n",
        "    accuracy_score,\n",
        "    precision_score,\n",
        "    recall_score,\n",
        "    f1_score,\n",
        "    roc_auc_score,\n",
        "    confusion_matrix\n",
        ")\n",
        "\n",
        "def grid_search_model(model, param_grid, X_train, y_train, X_val, y_val, X_test, y_test, cv=5, use_cv=True):\n",
        "    if use_cv:\n",
        "        # if we have cv we use training and validation in the grid search\n",
        "        grid_search = GridSearchCV(model, param_grid, cv=cv, scoring='accuracy', n_jobs=-1, refit=True, return_train_score=True)\n",
        "        grid_search.fit(X_train, y_train)\n",
        "        best_model = grid_search.best_estimator_\n",
        "       \n",
        "        y_val_pred = cross_val_predict(best_model, X_train, y_train, cv=cv, n_jobs=-1)\n",
        "        if hasattr(best_model, \"predict_proba\"):\n",
        "            y_val_prob = cross_val_predict(best_model, X_train, y_train, cv=cv, method=\"predict_proba\", n_jobs=-1)\n",
        "        else:\n",
        "            y_val_prob = None\n",
        "\n",
        "        val_accuracy = accuracy_score(y_train, y_val_pred)\n",
        "        val_precision = precision_score(y_train, y_val_pred, average='macro')\n",
        "        val_recall = recall_score(y_train, y_val_pred, average='macro')\n",
        "        val_f1 = f1_score(y_train, y_val_pred, average='macro')\n",
        "        val_conf_matrix = confusion_matrix(y_train, y_val_pred)\n",
        "        val_auc = roc_auc_score(y_train, y_val_prob, multi_class='ovr') if y_val_prob is not None else None\n",
        "\n",
        "    else:\n",
        "        #if we have simple split we just fit the model on the training and evaluate on the validation\n",
        "        model.fit(X_train, y_train)\n",
        "        best_model = model\n",
        "        y_val_pred = best_model.predict(X_val)\n",
        "        \n",
        "        if hasattr(best_model, \"predict_proba\"):\n",
        "            y_val_prob = best_model.predict_proba(X_val)\n",
        "        else:\n",
        "            y_val_prob = None\n",
        "\n",
        "        val_accuracy = accuracy_score(y_val, y_val_pred)\n",
        "        val_precision = precision_score(y_val, y_val_pred, average='macro')\n",
        "        val_recall = recall_score(y_val, y_val_pred, average='macro')\n",
        "        val_f1 = f1_score(y_val, y_val_pred, average='macro')\n",
        "        val_conf_matrix = confusion_matrix(y_val, y_val_pred)\n",
        "        val_auc = roc_auc_score(y_val, y_val_prob, multi_class='ovr') if y_val_prob is not None else None\n",
        "\n",
        "    y_test_pred = best_model.predict(X_test)\n",
        "    if hasattr(best_model, \"predict_proba\"):\n",
        "        y_test_prob = best_model.predict_proba(X_test)\n",
        "    else:\n",
        "        y_test_prob = None\n",
        "\n",
        "    test_accuracy = accuracy_score(y_test, y_test_pred)\n",
        "    test_precision = precision_score(y_test, y_test_pred, average='macro')\n",
        "    test_recall = recall_score(y_test, y_test_pred, average='macro')\n",
        "    test_f1 = f1_score(y_test, y_test_pred, average='macro')\n",
        "    test_conf_matrix = confusion_matrix(y_test, y_test_pred)\n",
        "    test_auc = roc_auc_score(y_test, y_test_prob, multi_class='ovr') if y_test_prob is not None else None\n",
        "\n",
        "    return (\n",
        "        best_model,\n",
        "        (val_accuracy, val_auc, val_precision, val_recall, val_f1, val_conf_matrix),\n",
        "        (test_auc, test_accuracy, test_precision, test_recall, test_f1, test_conf_matrix),\n",
        "        (grid_search.best_params_ if use_cv else None)\n",
        "    )"
      ]
    },
    {
      "cell_type": "code",
      "execution_count": null,
      "metadata": {},
      "outputs": [
        {
          "name": "stdout",
          "output_type": "stream",
          "text": [
            "Training SVM\n",
            "Training NN\n",
            "Training KNN\n"
          ]
        },
        {
          "name": "stderr",
          "output_type": "stream",
          "text": [
            "C:\\Users\\lclai\\AppData\\Local\\Temp\\ipykernel_23888\\1414218091.py:36: FutureWarning: The behavior of DataFrame concatenation with empty or all-NA entries is deprecated. In a future version, this will no longer exclude empty or all-NA columns when determining the result dtypes. To retain the old behavior, exclude the relevant entries before the concat operation.\n",
            "  results_df = pd.concat([results_df, pd.DataFrame([results_dict])], ignore_index=True)\n",
            "c:\\Users\\lclai\\miniconda3\\envs\\envlaia\\Lib\\site-packages\\sklearn\\metrics\\_classification.py:1509: UndefinedMetricWarning: Precision is ill-defined and being set to 0.0 in labels with no predicted samples. Use `zero_division` parameter to control this behavior.\n",
            "  _warn_prf(average, modifier, f\"{metric.capitalize()} is\", len(result))\n",
            "c:\\Users\\lclai\\miniconda3\\envs\\envlaia\\Lib\\site-packages\\sklearn\\metrics\\_classification.py:1509: UndefinedMetricWarning: Precision is ill-defined and being set to 0.0 in labels with no predicted samples. Use `zero_division` parameter to control this behavior.\n",
            "  _warn_prf(average, modifier, f\"{metric.capitalize()} is\", len(result))\n"
          ]
        },
        {
          "name": "stdout",
          "output_type": "stream",
          "text": [
            "Training RF\n",
            "Training XGB\n"
          ]
        }
      ],
      "source": [
        "# we create a dataframe to organize all the results\n",
        "\n",
        "results_df = pd.DataFrame(columns=[\n",
        "    'Model', 'Validation Method', 'Best Parameters', 'Validation Accuracy', \n",
        "    'Validation AUC', 'Validation Precision', 'Validation Recall', \n",
        "    'Validation F1 Score', 'Test Accuracy', 'Test AUC', 'Test Precision', \n",
        "    'Test Recall', 'Test F1 Score'\n",
        "])\n",
        "\n",
        "# for the simple split case\n",
        "\n",
        "for model_name, model in models.items():\n",
        "    print(f'Training {model_name}')\n",
        "    \n",
        "    best_model, val_metrics, test_metrics, best_params = grid_search_model(\n",
        "        model, param_grids[model_name],\n",
        "        X_train, y_train, X_val, y_val, X_test, y_test,\n",
        "        cv=None, use_cv=False  \n",
        "    )\n",
        "\n",
        "    val_accuracy, val_auc, val_precision, val_recall, val_f1, val_conf_matrix = val_metrics\n",
        "    test_auc, test_accuracy, test_precision, test_recall, test_f1, test_conf_matrix = test_metrics\n",
        "\n",
        "    results_dict = {\n",
        "        'Model': model_name,\n",
        "        'Validation Method': 'Simple Split',\n",
        "        'Best Parameters': best_params,\n",
        "        'Validation Accuracy': val_accuracy,\n",
        "        'Validation AUC': val_auc,\n",
        "        'Validation Precision': val_precision,\n",
        "        'Validation Recall': val_recall,\n",
        "        'Validation F1 Score': val_f1,\n",
        "        'Test Accuracy': test_accuracy,\n",
        "        'Test AUC': test_auc,\n",
        "        'Test Precision': test_precision,\n",
        "        'Test Recall': test_recall,\n",
        "        'Test F1 Score': test_f1\n",
        "    }\n",
        "\n",
        "    results_df = pd.concat([results_df, pd.DataFrame([results_dict])], ignore_index=True)"
      ]
    },
    {
      "cell_type": "code",
      "execution_count": null,
      "metadata": {},
      "outputs": [
        {
          "name": "stdout",
          "output_type": "stream",
          "text": [
            "Training SVM\n",
            "Training NN\n",
            "Training KNN\n",
            "Training RF\n",
            "Training XGB\n"
          ]
        }
      ],
      "source": [
        "# for the 5 fold cv case\n",
        "\n",
        "for model_name, model in models.items():\n",
        "    print(f'Training {model_name}')\n",
        "\n",
        "    best_model, val_metrics, test_metrics, best_params = grid_search_model(\n",
        "        model, param_grids[model_name],\n",
        "        X_train_val, y_train_val, X_val, y_val, X_test, y_test,\n",
        "        cv=kfold, use_cv=True\n",
        "    )\n",
        "\n",
        "    val_accuracy, val_auc, val_precision, val_recall, val_f1, val_conf_matrix = val_metrics\n",
        "    test_auc, test_accuracy, test_precision, test_recall, test_f1, test_conf_matrix = test_metrics\n",
        "\n",
        "    results_dict = {\n",
        "        'Model': model_name,\n",
        "        'Validation Method': '5 fold CV',\n",
        "        'Best Parameters': best_params,\n",
        "        'Validation Accuracy': val_accuracy,\n",
        "        'Validation AUC': val_auc,\n",
        "        'Validation Precision': val_precision,\n",
        "        'Validation Recall': val_recall,\n",
        "        'Validation F1 Score': val_f1,\n",
        "        'Test Accuracy': test_accuracy,\n",
        "        'Test AUC': test_auc,\n",
        "        'Test Precision': test_precision,\n",
        "        'Test Recall': test_recall,\n",
        "        'Test F1 Score': test_f1\n",
        "    }\n",
        "\n",
        "    results_df = pd.concat([results_df, pd.DataFrame([results_dict])], ignore_index=True)\n"
      ]
    },
    {
      "cell_type": "code",
      "execution_count": 91,
      "metadata": {},
      "outputs": [
        {
          "name": "stdout",
          "output_type": "stream",
          "text": [
            "Training SVM\n",
            "Training NN\n"
          ]
        },
        {
          "name": "stderr",
          "output_type": "stream",
          "text": [
            "c:\\Users\\lclai\\miniconda3\\envs\\envlaia\\Lib\\site-packages\\sklearn\\neural_network\\_multilayer_perceptron.py:691: ConvergenceWarning: Stochastic Optimizer: Maximum iterations (500) reached and the optimization hasn't converged yet.\n",
            "  warnings.warn(\n"
          ]
        },
        {
          "name": "stdout",
          "output_type": "stream",
          "text": [
            "Training KNN\n",
            "Training RF\n",
            "Training XGB\n"
          ]
        }
      ],
      "source": [
        "# for the leave one out case\n",
        "\n",
        "for model_name, model in models.items():\n",
        "    print(f'Training {model_name}')\n",
        "\n",
        "    best_model, val_metrics, test_metrics, best_params = grid_search_model(\n",
        "        model, param_grids[model_name],\n",
        "        X_train_val, y_train_val, X_val, y_val, X_test, y_test,\n",
        "        cv=loo, use_cv=True\n",
        "    )\n",
        "\n",
        "    val_accuracy, val_auc, val_precision, val_recall, val_f1, val_conf_matrix = val_metrics\n",
        "    test_auc, test_accuracy, test_precision, test_recall, test_f1, test_conf_matrix = test_metrics\n",
        "\n",
        "    results_dict = {\n",
        "        'Model': model_name,\n",
        "        'Validation Method': 'LeaveOneOut',\n",
        "        'Best Parameters': best_params,\n",
        "        'Validation Accuracy': val_accuracy,\n",
        "        'Validation AUC': val_auc,\n",
        "        'Validation Precision': val_precision,\n",
        "        'Validation Recall': val_recall,\n",
        "        'Validation F1 Score': val_f1,\n",
        "        'Test Accuracy': test_accuracy,\n",
        "        'Test AUC': test_auc,\n",
        "        'Test Precision': test_precision,\n",
        "        'Test Recall': test_recall,\n",
        "        'Test F1 Score': test_f1\n",
        "    }\n",
        "\n",
        "    results_df = pd.concat([results_df, pd.DataFrame([results_dict])], ignore_index=True)\n"
      ]
    },
    {
      "cell_type": "code",
      "execution_count": 92,
      "metadata": {},
      "outputs": [
        {
          "data": {
            "text/html": [
              "<div>\n",
              "<style scoped>\n",
              "    .dataframe tbody tr th:only-of-type {\n",
              "        vertical-align: middle;\n",
              "    }\n",
              "\n",
              "    .dataframe tbody tr th {\n",
              "        vertical-align: top;\n",
              "    }\n",
              "\n",
              "    .dataframe thead th {\n",
              "        text-align: right;\n",
              "    }\n",
              "</style>\n",
              "<table border=\"1\" class=\"dataframe\">\n",
              "  <thead>\n",
              "    <tr style=\"text-align: right;\">\n",
              "      <th></th>\n",
              "      <th>Model</th>\n",
              "      <th>Validation Method</th>\n",
              "      <th>Best Parameters</th>\n",
              "      <th>Validation Accuracy</th>\n",
              "      <th>Validation AUC</th>\n",
              "      <th>Validation Precision</th>\n",
              "      <th>Validation Recall</th>\n",
              "      <th>Validation F1 Score</th>\n",
              "      <th>Test Accuracy</th>\n",
              "      <th>Test AUC</th>\n",
              "      <th>Test Precision</th>\n",
              "      <th>Test Recall</th>\n",
              "      <th>Test F1 Score</th>\n",
              "    </tr>\n",
              "  </thead>\n",
              "  <tbody>\n",
              "    <tr>\n",
              "      <th>0</th>\n",
              "      <td>SVM</td>\n",
              "      <td>Simple Split</td>\n",
              "      <td>None</td>\n",
              "      <td>0.4375</td>\n",
              "      <td>0.771154</td>\n",
              "      <td>0.352381</td>\n",
              "      <td>0.466667</td>\n",
              "      <td>0.386667</td>\n",
              "      <td>0.40</td>\n",
              "      <td>0.709375</td>\n",
              "      <td>0.480000</td>\n",
              "      <td>0.40</td>\n",
              "      <td>0.388889</td>\n",
              "    </tr>\n",
              "    <tr>\n",
              "      <th>1</th>\n",
              "      <td>NN</td>\n",
              "      <td>Simple Split</td>\n",
              "      <td>None</td>\n",
              "      <td>0.3750</td>\n",
              "      <td>0.585256</td>\n",
              "      <td>0.152727</td>\n",
              "      <td>0.333333</td>\n",
              "      <td>0.206667</td>\n",
              "      <td>0.45</td>\n",
              "      <td>0.656250</td>\n",
              "      <td>0.555000</td>\n",
              "      <td>0.45</td>\n",
              "      <td>0.374286</td>\n",
              "    </tr>\n",
              "    <tr>\n",
              "      <th>2</th>\n",
              "      <td>KNN</td>\n",
              "      <td>Simple Split</td>\n",
              "      <td>None</td>\n",
              "      <td>0.3750</td>\n",
              "      <td>0.772756</td>\n",
              "      <td>0.480000</td>\n",
              "      <td>0.400000</td>\n",
              "      <td>0.400000</td>\n",
              "      <td>0.35</td>\n",
              "      <td>0.681250</td>\n",
              "      <td>0.408333</td>\n",
              "      <td>0.35</td>\n",
              "      <td>0.347619</td>\n",
              "    </tr>\n",
              "    <tr>\n",
              "      <th>3</th>\n",
              "      <td>RF</td>\n",
              "      <td>Simple Split</td>\n",
              "      <td>None</td>\n",
              "      <td>0.5625</td>\n",
              "      <td>0.875321</td>\n",
              "      <td>0.636667</td>\n",
              "      <td>0.583333</td>\n",
              "      <td>0.586667</td>\n",
              "      <td>0.65</td>\n",
              "      <td>0.834375</td>\n",
              "      <td>0.636667</td>\n",
              "      <td>0.65</td>\n",
              "      <td>0.640476</td>\n",
              "    </tr>\n",
              "    <tr>\n",
              "      <th>4</th>\n",
              "      <td>XGB</td>\n",
              "      <td>Simple Split</td>\n",
              "      <td>None</td>\n",
              "      <td>0.6250</td>\n",
              "      <td>0.844551</td>\n",
              "      <td>0.713333</td>\n",
              "      <td>0.633333</td>\n",
              "      <td>0.656508</td>\n",
              "      <td>0.50</td>\n",
              "      <td>0.828125</td>\n",
              "      <td>0.464286</td>\n",
              "      <td>0.50</td>\n",
              "      <td>0.466883</td>\n",
              "    </tr>\n",
              "    <tr>\n",
              "      <th>5</th>\n",
              "      <td>SVM</td>\n",
              "      <td>5 fold CV</td>\n",
              "      <td>{'C': 0.1, 'gamma': 'scale', 'kernel': 'linear'}</td>\n",
              "      <td>0.8000</td>\n",
              "      <td>0.908008</td>\n",
              "      <td>0.806723</td>\n",
              "      <td>0.800000</td>\n",
              "      <td>0.801340</td>\n",
              "      <td>0.75</td>\n",
              "      <td>0.962500</td>\n",
              "      <td>0.850000</td>\n",
              "      <td>0.75</td>\n",
              "      <td>0.734762</td>\n",
              "    </tr>\n",
              "    <tr>\n",
              "      <th>6</th>\n",
              "      <td>NN</td>\n",
              "      <td>5 fold CV</td>\n",
              "      <td>{'activation': 'relu', 'hidden_layer_sizes': (...</td>\n",
              "      <td>0.7500</td>\n",
              "      <td>0.843750</td>\n",
              "      <td>0.745789</td>\n",
              "      <td>0.750000</td>\n",
              "      <td>0.742396</td>\n",
              "      <td>0.70</td>\n",
              "      <td>0.812500</td>\n",
              "      <td>0.700000</td>\n",
              "      <td>0.70</td>\n",
              "      <td>0.686667</td>\n",
              "    </tr>\n",
              "    <tr>\n",
              "      <th>7</th>\n",
              "      <td>KNN</td>\n",
              "      <td>5 fold CV</td>\n",
              "      <td>{'metric': 'manhattan', 'n_neighbors': 5, 'wei...</td>\n",
              "      <td>0.6375</td>\n",
              "      <td>0.850488</td>\n",
              "      <td>0.675098</td>\n",
              "      <td>0.637500</td>\n",
              "      <td>0.644627</td>\n",
              "      <td>0.55</td>\n",
              "      <td>0.829688</td>\n",
              "      <td>0.613333</td>\n",
              "      <td>0.55</td>\n",
              "      <td>0.558730</td>\n",
              "    </tr>\n",
              "    <tr>\n",
              "      <th>8</th>\n",
              "      <td>RF</td>\n",
              "      <td>5 fold CV</td>\n",
              "      <td>{'max_depth': None, 'min_samples_leaf': 1, 'mi...</td>\n",
              "      <td>0.8000</td>\n",
              "      <td>0.935156</td>\n",
              "      <td>0.812655</td>\n",
              "      <td>0.800000</td>\n",
              "      <td>0.798986</td>\n",
              "      <td>0.70</td>\n",
              "      <td>0.859375</td>\n",
              "      <td>0.733333</td>\n",
              "      <td>0.70</td>\n",
              "      <td>0.692063</td>\n",
              "    </tr>\n",
              "    <tr>\n",
              "      <th>9</th>\n",
              "      <td>XGB</td>\n",
              "      <td>5 fold CV</td>\n",
              "      <td>{'learning_rate': 0.3, 'max_depth': 3, 'n_esti...</td>\n",
              "      <td>0.7500</td>\n",
              "      <td>0.940234</td>\n",
              "      <td>0.754510</td>\n",
              "      <td>0.750000</td>\n",
              "      <td>0.746575</td>\n",
              "      <td>0.80</td>\n",
              "      <td>0.953125</td>\n",
              "      <td>0.803333</td>\n",
              "      <td>0.80</td>\n",
              "      <td>0.791270</td>\n",
              "    </tr>\n",
              "    <tr>\n",
              "      <th>10</th>\n",
              "      <td>SVM</td>\n",
              "      <td>LeaveOneOut</td>\n",
              "      <td>{'C': 0.1, 'gamma': 'scale', 'kernel': 'linear'}</td>\n",
              "      <td>0.7625</td>\n",
              "      <td>0.910742</td>\n",
              "      <td>0.765533</td>\n",
              "      <td>0.762500</td>\n",
              "      <td>0.762147</td>\n",
              "      <td>0.75</td>\n",
              "      <td>0.971875</td>\n",
              "      <td>0.850000</td>\n",
              "      <td>0.75</td>\n",
              "      <td>0.734762</td>\n",
              "    </tr>\n",
              "    <tr>\n",
              "      <th>11</th>\n",
              "      <td>NN</td>\n",
              "      <td>LeaveOneOut</td>\n",
              "      <td>{'activation': 'tanh', 'hidden_layer_sizes': (...</td>\n",
              "      <td>0.7625</td>\n",
              "      <td>0.926953</td>\n",
              "      <td>0.766520</td>\n",
              "      <td>0.762500</td>\n",
              "      <td>0.763893</td>\n",
              "      <td>0.75</td>\n",
              "      <td>0.925000</td>\n",
              "      <td>0.746667</td>\n",
              "      <td>0.75</td>\n",
              "      <td>0.739683</td>\n",
              "    </tr>\n",
              "    <tr>\n",
              "      <th>12</th>\n",
              "      <td>KNN</td>\n",
              "      <td>LeaveOneOut</td>\n",
              "      <td>{'metric': 'manhattan', 'n_neighbors': 5, 'wei...</td>\n",
              "      <td>0.6875</td>\n",
              "      <td>0.858594</td>\n",
              "      <td>0.717546</td>\n",
              "      <td>0.687500</td>\n",
              "      <td>0.693932</td>\n",
              "      <td>0.55</td>\n",
              "      <td>0.829688</td>\n",
              "      <td>0.613333</td>\n",
              "      <td>0.55</td>\n",
              "      <td>0.558730</td>\n",
              "    </tr>\n",
              "    <tr>\n",
              "      <th>13</th>\n",
              "      <td>RF</td>\n",
              "      <td>LeaveOneOut</td>\n",
              "      <td>{'max_depth': None, 'min_samples_leaf': 1, 'mi...</td>\n",
              "      <td>0.8125</td>\n",
              "      <td>0.919824</td>\n",
              "      <td>0.820350</td>\n",
              "      <td>0.812500</td>\n",
              "      <td>0.813427</td>\n",
              "      <td>0.70</td>\n",
              "      <td>0.865625</td>\n",
              "      <td>0.733333</td>\n",
              "      <td>0.70</td>\n",
              "      <td>0.693333</td>\n",
              "    </tr>\n",
              "    <tr>\n",
              "      <th>14</th>\n",
              "      <td>XGB</td>\n",
              "      <td>LeaveOneOut</td>\n",
              "      <td>{'learning_rate': 0.1, 'max_depth': 3, 'n_esti...</td>\n",
              "      <td>0.7625</td>\n",
              "      <td>0.934570</td>\n",
              "      <td>0.755556</td>\n",
              "      <td>0.762500</td>\n",
              "      <td>0.755462</td>\n",
              "      <td>0.85</td>\n",
              "      <td>0.959375</td>\n",
              "      <td>0.870000</td>\n",
              "      <td>0.85</td>\n",
              "      <td>0.848413</td>\n",
              "    </tr>\n",
              "  </tbody>\n",
              "</table>\n",
              "</div>"
            ],
            "text/plain": [
              "   Model Validation Method                                    Best Parameters  \\\n",
              "0    SVM      Simple Split                                               None   \n",
              "1     NN      Simple Split                                               None   \n",
              "2    KNN      Simple Split                                               None   \n",
              "3     RF      Simple Split                                               None   \n",
              "4    XGB      Simple Split                                               None   \n",
              "5    SVM         5 fold CV   {'C': 0.1, 'gamma': 'scale', 'kernel': 'linear'}   \n",
              "6     NN         5 fold CV  {'activation': 'relu', 'hidden_layer_sizes': (...   \n",
              "7    KNN         5 fold CV  {'metric': 'manhattan', 'n_neighbors': 5, 'wei...   \n",
              "8     RF         5 fold CV  {'max_depth': None, 'min_samples_leaf': 1, 'mi...   \n",
              "9    XGB         5 fold CV  {'learning_rate': 0.3, 'max_depth': 3, 'n_esti...   \n",
              "10   SVM       LeaveOneOut   {'C': 0.1, 'gamma': 'scale', 'kernel': 'linear'}   \n",
              "11    NN       LeaveOneOut  {'activation': 'tanh', 'hidden_layer_sizes': (...   \n",
              "12   KNN       LeaveOneOut  {'metric': 'manhattan', 'n_neighbors': 5, 'wei...   \n",
              "13    RF       LeaveOneOut  {'max_depth': None, 'min_samples_leaf': 1, 'mi...   \n",
              "14   XGB       LeaveOneOut  {'learning_rate': 0.1, 'max_depth': 3, 'n_esti...   \n",
              "\n",
              "    Validation Accuracy  Validation AUC  Validation Precision  \\\n",
              "0                0.4375        0.771154              0.352381   \n",
              "1                0.3750        0.585256              0.152727   \n",
              "2                0.3750        0.772756              0.480000   \n",
              "3                0.5625        0.875321              0.636667   \n",
              "4                0.6250        0.844551              0.713333   \n",
              "5                0.8000        0.908008              0.806723   \n",
              "6                0.7500        0.843750              0.745789   \n",
              "7                0.6375        0.850488              0.675098   \n",
              "8                0.8000        0.935156              0.812655   \n",
              "9                0.7500        0.940234              0.754510   \n",
              "10               0.7625        0.910742              0.765533   \n",
              "11               0.7625        0.926953              0.766520   \n",
              "12               0.6875        0.858594              0.717546   \n",
              "13               0.8125        0.919824              0.820350   \n",
              "14               0.7625        0.934570              0.755556   \n",
              "\n",
              "    Validation Recall  Validation F1 Score  Test Accuracy  Test AUC  \\\n",
              "0            0.466667             0.386667           0.40  0.709375   \n",
              "1            0.333333             0.206667           0.45  0.656250   \n",
              "2            0.400000             0.400000           0.35  0.681250   \n",
              "3            0.583333             0.586667           0.65  0.834375   \n",
              "4            0.633333             0.656508           0.50  0.828125   \n",
              "5            0.800000             0.801340           0.75  0.962500   \n",
              "6            0.750000             0.742396           0.70  0.812500   \n",
              "7            0.637500             0.644627           0.55  0.829688   \n",
              "8            0.800000             0.798986           0.70  0.859375   \n",
              "9            0.750000             0.746575           0.80  0.953125   \n",
              "10           0.762500             0.762147           0.75  0.971875   \n",
              "11           0.762500             0.763893           0.75  0.925000   \n",
              "12           0.687500             0.693932           0.55  0.829688   \n",
              "13           0.812500             0.813427           0.70  0.865625   \n",
              "14           0.762500             0.755462           0.85  0.959375   \n",
              "\n",
              "    Test Precision  Test Recall  Test F1 Score  \n",
              "0         0.480000         0.40       0.388889  \n",
              "1         0.555000         0.45       0.374286  \n",
              "2         0.408333         0.35       0.347619  \n",
              "3         0.636667         0.65       0.640476  \n",
              "4         0.464286         0.50       0.466883  \n",
              "5         0.850000         0.75       0.734762  \n",
              "6         0.700000         0.70       0.686667  \n",
              "7         0.613333         0.55       0.558730  \n",
              "8         0.733333         0.70       0.692063  \n",
              "9         0.803333         0.80       0.791270  \n",
              "10        0.850000         0.75       0.734762  \n",
              "11        0.746667         0.75       0.739683  \n",
              "12        0.613333         0.55       0.558730  \n",
              "13        0.733333         0.70       0.693333  \n",
              "14        0.870000         0.85       0.848413  "
            ]
          },
          "execution_count": 92,
          "metadata": {},
          "output_type": "execute_result"
        }
      ],
      "source": [
        "results_df"
      ]
    },
    {
      "cell_type": "code",
      "execution_count": 101,
      "metadata": {},
      "outputs": [
        {
          "data": {
            "image/png": "[encoded data removed]",
            "text/plain": [
              "<Figure size 800x600 with 1 Axes>"
            ]
          },
          "metadata": {},
          "output_type": "display_data"
        }
      ],
      "source": [
        "#to finalize with this part we can do a simple plot to compare the different models, validation and test\n",
        "\n",
        "fig, ax = plt.subplots(figsize=(8, 6))\n",
        "\n",
        "bar_width = 0.35\n",
        "index = np.arange(len(results_df))\n",
        "\n",
        "ax.bar(index, results_df['Validation Accuracy'], bar_width, label='Validation Accuracy', alpha=0.7, color='skyblue')\n",
        "ax.bar(index + bar_width, results_df['Test Accuracy'], bar_width, label='Test Accuracy', alpha=0.7, color='lightcoral')\n",
        "\n",
        "validation_types = results_df['Validation Method'].values\n",
        "xticks_labels = [f\"{model}\\n({validation})\" for model, validation in zip(results_df['Model'], validation_types)]\n",
        "\n",
        "ax.set_xticks(index + bar_width / 2)\n",
        "ax.set_xticklabels(xticks_labels, rotation=45, ha='right')\n",
        "\n",
        "ax.set_xlabel('Model')\n",
        "ax.set_ylabel('Accuracy')\n",
        "ax.set_title('Validation vs Test Accuracy')\n",
        "\n",
        "for i in range(len(results_df)):\n",
        "    ax.text(i, results_df['Validation Accuracy'][i] + 0.01, \n",
        "            f\"{results_df['Validation Accuracy'][i]:.2f}\", ha='center', va='bottom', fontsize=6)\n",
        "    ax.text(i + bar_width, results_df['Test Accuracy'][i] + 0.01, \n",
        "            f\"{results_df['Test Accuracy'][i]:.2f}\", ha='center', va='bottom', fontsize=7)\n",
        "\n",
        "ax.legend()\n",
        "plt.tight_layout()\n",
        "plt.show()"
      ]
    },
    {
      "cell_type": "markdown",
      "metadata": {},
      "source": [
        "### Interpretation of the Results\n",
        "\n",
        "The evaluation of several models (SVM, Neural Network, KNN, Random Forest, XGBoost) was carried out using three different validation methods: simple split, 5-Fold Cross-Validation, and Leave-One-Out Cross-Validation.\n",
        "\n",
        "When using the simple split validation method, Random Forest (RF) and XGBoost (XGB) outperformed the other models, such as SVM, Neural Networks (NN), and KNN. Random Forest achieved a validation accuracy of 56.25%, a validation AUC of 0.875, and high precision and recall. XGBoost showed a slightly better validation accuracy of 62.5% but had a lower recall (0.633) compared to Random Forest, indicating a trade-off between the two metrics. The test results for both Random Forest and XGBoost showed a decrease in performance, suggesting that the models may be overfitting to the training data.\n",
        "\n",
        "During 5-Fold Cross-Validation with hyperparameter tuning, SVM achieved a significant improvement, reaching a validation accuracy of 80%, with high precision and recall. XGBoost also performed well, achieving a validation accuracy of 75%. Neural Networks showed good performance as well, with a validation accuracy of 75%, but their performance on the test set slightly declined, with a test accuracy of 70%. The application of hyperparameter tuning in the 5-Fold Cross-Validation helped improve model generalization compared to the results from the simple split validation, particularly for models like SVM and Neural Networks.\n",
        "\n",
        "In the Leave-One-Out Cross-Validation, SVM, Neural Networks, and XGBoost remained the top performers, with SVM achieving the highest AUC (0.971875) and demonstrating strong discrimination between classes. The models' performances were generally consistent with the trends observed during 5-Fold Cross-Validation, indicating that the models were well-optimized through the tuning process. XGBoost also showed impressive results, with a validation AUC of 0.934570 and a test AUC of 0.959375, which suggests good model generalization across all validation methods.\n",
        "\n",
        "It is important to note that overfitting is a concern in this scenario due to the relatively small sample size (100 samples) in comparison to the large number of features (644). This makes overfitting a likely issue for some models. Techniques like regularization, feature selection, and proper cross-validation are recommended to mitigate overfitting. Moreover, methods such as early stopping can help further improve the generalization of neural networks.\n",
        "\n",
        "Regarding performance metrics, accuracy is a reasonable metric, given the balanced nature of the classes. However, in a clinical context, it might be more appropriate to prioritize metrics like recall, especially when false negatives need to be minimized (e.g., in medical diagnostics). This would ensure that more instances of the positive class are correctly identified, which is crucial for minimizing the risk of missing important cases.\n",
        "\n",
        "In conclusion, the initial evaluation suggests that SVM, Neural Networks, and XGBoost are well-suited for the task, but further model improvement could be achieved through advanced techniques like feature selection, ensemble methods, and synthetic data generation. Hyperparameter tuning has proven to be effective in improving model performance, and the models show promise for further refinement."
      ]
    },
    {
      "cell_type": "markdown",
      "metadata": {
        "id": "nrNr9pKpEOPJ"
      },
      "source": [
        "## **4. Feature Engeneering and model Enhancement**"
      ]
    },
    {
      "cell_type": "markdown",
      "metadata": {
        "id": "f-hULvBbEadZ"
      },
      "source": [
        "## **5. Results Analysis**"
      ]
    }
  ],
  "metadata": {
    "colab": {
      "provenance": []
    },
    "kernelspec": {
      "display_name": "envlaia",
      "language": "python",
      "name": "python3"
    },
    "language_info": {
      "codemirror_mode": {
        "name": "ipython",
        "version": 3
      },
      "file_extension": ".py",
      "mimetype": "text/x-python",
      "name": "python",
      "nbconvert_exporter": "python",
      "pygments_lexer": "ipython3",
      "version": "3.12.2"
    }
  },
  "nbformat": 4,
  "nbformat_minor": 0
}
